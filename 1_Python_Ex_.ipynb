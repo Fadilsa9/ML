{
  "nbformat": 4,
  "nbformat_minor": 0,
  "metadata": {
    "colab": {
      "provenance": [],
      "mount_file_id": "1g8pjebTRHpqPM2D-uBPtMmw3BNhQl-nX",
      "authorship_tag": "ABX9TyPVHlbN1Gh6SCA6fVegL0fJ"
    },
    "kernelspec": {
      "name": "python3",
      "display_name": "Python 3"
    },
    "language_info": {
      "name": "python"
    }
  },
  "cells": [
    {
      "cell_type": "markdown",
      "source": [
        "# Start"
      ],
      "metadata": {
        "id": "zbRVcJGG-78J"
      }
    },
    {
      "cell_type": "markdown",
      "source": [
        "![image.png](data:image/png;base64,iVBORw0KGgoAAAANSUhEUgAAAYIAAAClCAIAAADeRm3kAAAgAElEQVR4Ae1du3IbR7P+n8CWjyiR9vmPZEqky7/vEqukFxBSJlbCTFVKoUBmxsSlJzATJgxPeFJWIcBzsMgnQX6qey7b3dN7wRLELsCPpbIXwFy6v+n+pmd2t+dfXz3d7/3v66f7O89/2Ts8wj8gAASAQG8E/tWbg3LFR98e7Dz/+emLP/YOXveWAxWBABB4iAgcHO0evFoBDWU+wgUQAAJAoAcCoKH+a9IecKMKEAACJQKgIdAQEAACAyOwAhqivaFn2BvCPj0Q2DoEaOPm9e7LV0/2f3v87KdH3x6WgcxKvrkTDeFO2UPcU8SN0QeMwO7Bq53nvzz67oeVsE9upD8Nff10/+mL3+CHQAAIPEAEnuz/vsLgqD8N4YmhB2h8UBkISAR2vv/1672XOajpfdGThh59eyClwTUQAAIPFIGD19/ceY3Wk4Z2nv38QEF/wPsCGHEgUIfA43//p3co9NXT/Z40RM9MwyGBABAAAgmBnWe/9GainjSE9zbAwkAACBgEesdEfWkoUaCRAx+BABB4yAj02ycCDW3dI2eYIYDAgAgcvO5x7ww0BBoCAkBglQjsfP/rsptEoKFVDsBDjsahOxDICCz7ZCNoCDQEBIDAihF4sv/7UgERaGjFA5AnBFwAgYeMwFLvnYGGQENAAAisHoGd5z93D4hAQ6sfgIc8B0J3IBAQ2D14BRoCuQABIDAwAt03qtccDZ1MZ7eLxe35sQDo+PLafKOfephc3C4W86n+khj3dG6bKsvgm34ItA0K5vwtRMAM+vHZ+ez2epH+bubKbTvY1eNnP3UMiNZJQyfnN0ElTUOHR9PZYnFzOalRDDS0dovnkZqdrb1fMTnVGANEulcEpCeS393Mz0/PpvTv8oqc13puszBP9rs+QLQ2GjojNW7m01Mv9iEaXlyd+lYIGmoe7NX/ijDzwZJgkyeeXS0W1xcn3e3t6Ys/xhYNnV3NON4xgV8c76bptwsNEYuXf9V8fnJOi8Hwd3s9O6uLvPaOz65u/JKr6qK5ncnp/DrGjDT5XJ1Wo25wMB/3Dlt1FAVolqtaNoYlp8S9wyPqSMeq3HWySBO6L26vLmrhNS1zv6Vx18tJ/Kj/egxxNrl6kyiwPSJ4b5LKPknRhkPNEkZotHDNz6nbbCfNw908ZI0tN3hiKwI2jOi+S722aCiJWDPTegYaq3g2wT+ppk4mx/QvtDPl68Q1ZOgcXnKZEF5qvxJ+eHY+u4yB6EVghLwttaouGtoheyU3jrqofTSFg9L9aO+wVcdYICDDO3R14ac1RGvTPGEuqonx5HxGoXuU+WJOrlixQxp3dl1vlA0NNcpJWs/j4PYf4na4FNSZtppoiEFjCuYlDFlRZ/Orq9tgJy3D3TpkycBoM0Q7S+0OCWOy3KJs7+BobNFQMkfrP5JrapSsqeJuUZeG7pgUO1K38NI4CUm7qi7KdgQbBlhU75UiReRc/ZQnaq1jWaC2d12xjIao4uyyITSobdmDLhBoHosWOQMNZR3TRVlrr9BCYtta3inQGA1xed96naa0bA11g8wlnp3aFBNt3ZCVLcfhtntA3p2lBL4EtrzeMBpyOSVpFbifwoQw1Uwv5mnpZMe+QNbO7XVDm/pKdJlQLhosaahnF2XLhQzUcuGiipu4SqsATgHHlIPK7CRyn45KZpuOU4ISTIo9ob2/Smb5k8vgmoba5PRpyKlV01cY3PbyHji1Kof1Wk0A2NqXX0DiVtiJX0UW6zhkskrVYzHrc7H5VN7dTt5R1ar5ZtNoqLB+paHaslksbm6vLi6nF84N+wLZ0mnJFj07iwTEP+kNCP24wN27CKoV7bBgtGYUWwzCpVmwW9o5skueVh2Zx41O9NGSOAlWWKGw6eyK+aIETe1nqUGMsN/mbakJDSvJkai2TU6fhlrVj0ImYdrLezYg5ezUIHfX2pdfIIlKHRV24ldhmeMGQpch81pmvYwn0se8L2EUb/+4XTTkcm3hMB6y7WMmh5yv45o8bXbYp5Z6mEXRhWtebHBhi/f4hHcWlLcHOzt3nqJq1TEUiNs3Qa/wX0ewAtVs08LQlWAStCnvDSVaKc1UbtbydHJ6Ke6/tMm5VhrSm1DHZzIy1bj5+HMZ/yeBpF9Att/D3roNWUlwPF6Ghk7nVSzsumHjl5tGQ2RhdZumpTXzN4XDeDREDlOEDzUD4AFaGEFZt2cXtmUefu3Aykaz7dqKvG3RqKMvobT16roYiGTTJExarJU0JMbIG5eqfQKZiT6iLXVsk5NaLmdmv1aBUpawvXyGWojdoLLfINf1fxKy+QVEv33sreOQCTEyOCEczgMtvve8Q8rpXm8iDXlrhAblPXMvkXVMynH4Gri9kqvqwrZjZqG4PsoLFrmQtLbbqiMX6AZvIUaw6XP1iCkJoBlTAOiNi2uj/KWkoaBjvZw+DUlkkhjewGUZusFl+K5J5QZ4u/VVr7KzKGvXt+OQWQsMvmaG7/hkWv9sR4a07mLDaIgQcSa6ZFUuGRm8uIyHLDstPylDK5HGG/aT0zlvhJ9Mjs/C+qKMSO/YRR6woh2WczE/D3frw53vat/EGJ/y3rhL2qRj2IVJTwOcnp1fzK/tHlNAm1qWsRU7ktlIEj55enk9u5yeppXsadMN+6y7uDCKNMpZQ0Md1DeG1GISDnc03imLAqQF9ZTgvUx7ui19NdYlsQs7iQ8xNTyD0jJkyZu8lrm7yhODTfYPjjaLhlhb3yuMAYmPXWmIhk08WuY+PxabtU8Pek/iuYPXvYvsgU47acuWtkNv6N7EdFYFHdY3bNjSqqMsEPZl/CcYjWDRptXo0HjFaMi5e1D7+GLWXVwYGjKDpeWspSFTq2mIU9cSDVveQk1+K1RObpyaCsYjG4zDlwrIn2xfXEYWMHVdGmrRt2XIkvxmoIMkZhODyri3MlIjSUfhmOKnsdKQELFSwHqUr1JV3m0EX64KAY/fAf6DQGDVnrhJNOSxMphoQAR6BaerIkG0MxwCK/fEzaEhIuCmLboHMQsNZ3k+vBiUsY3IGuS5h0HfHBpaA77oAggAgSEQAA0NuKhB10AACBACoCHYARAAAgMjABoaeAD8PZchAmNIAgSGQgA0BBoCAkBgYARAQwMPwFDzD/oFAuNBADQEGgICQGBgBEBDAw/AeGYkSAIEhkJgbDR0Qm+KpmTv1/zCVISm9aEpereg+FOvOIFxth0Bk3h/+TOzhvLDB97vqGiIXw6glImceSueeVQlUmh5hJxfcaoywIaDk4791zIf+Khvq/r0rubdzszaVmRGrteoaOhoL6YTTJM2RUDpFe3Do5DAPKXUSmXyvW28aZmhwEVEoHwvvzAbYDUCBEZGQxYRY0aN71LW01BMaJBWbJrIRL7RxmO5eD4RhYuTpJZN+2CkStJVtMtz++WE8oqmM9HkKrX1aLCY1LlqME+JoWudkEyopnFo10tKmNTo0jhnh0gV8v+rdbTNaxFPJW7vLnNNa9qNXBIXQyKwATQkWaNpXdZMQ+GgJT4QQjRINMcpeygdV+OxXKs/tSq6dzhIK/5X0S4XuL3Oq9SYZqh6v5cK5MMwUrQoUseHFGjlidustQwz0/ll7vFkbTQUltJ0sGJKX620yIejeY3HKmFY9UlY3KxzpFdrd5U7BQCXPVI9kzUu1obAqGmodIAmw6qnIbLyMMfyKi/TUNl+A82Vhc0pV06BxiRYXnnlwFzAZLRjBknxAhUQNMRqqqPBuAAd4JFVJsNioK5zQjLvABKJgyeniDI0pGy4pRbVBp+bJ1B2F0yfO60It/KHtu5SyTCpeC3YiLuirVQX36wbgRHTkNkYCtZTzzXlkTXJqnj+dGhIfJ9M03O5MCROYeNRXl3hrqmLJJXJ1hp6KR3YOhJ5bEq+ST1mGorIqB5DAcoPnZgryqwOMnRUk7rI6yS86KWFF1oaDw0WNOTUil23dBf9hxvseWZW0nHdrviQ+x0rDR2rab8aIccKk7nUMhQ1FcMBVZ27yFsS1YX1fO5dEUSWR7ooX1et5Cu9S5Kk9WIQfSigy1PqS+ox0lDmhXxBHcUCpHWKR+j69vxYFmvBoU0vpozFbT4Ymo4Vq1Z8LY0HJAsaki1UiHHh5u64sNS3YP88drgYDwLjpCG23ZmXq1jxiDbQOhqS36vqwda7HcvFuyclobCLRg+P13qvp0rGXPiDrJsMQrmfV8CnIVFS8kuiIbE2pJLEXLJYCw6x8Sa94rZaZl6xP9XSeFB8GRqK+ZVlX6I7Nom7nZmVxkJbVzF8KLZCBEZIQ2S4C5eD0mE4aqcj24ekm/ylObFA0RDPq2K10girX1j6j+CCbMHS2/OX8cIrX9KQDc2oxxTaJE6hWgkT1WMqUPKRLOarltHw5JTVWR0FvtSipfHQi4SRv2mrVdudBTlrgYsxIzA2GuKDX/J+h2CTCKKyP21z7k+Kd+yTR+xg1s/rRsvxRm48h0hOARV0aGm7LsrM7fbI0UFI6vHmsuFosFCAT3Y9u6J1U16dKR5hyWtx6KCXkspbWtY2HhQpaCgEfXW1mrqjBu92ZladAeD7+0NgVDTEcyDvMkzDM9Dxv+GIZHJjGQtYUBwaOokumhcU8YZ9brDxuCtLgixe/SFfHdxVMZFXXsYRwRX56JvwWLl7w54WJ9JdC35JnM7Q5b1qVYyIg16gyc+vq+PJPDlV9WJQlBbNjYdBLGmo4Viutu54mKrwUGFubcYOMQoPg8CYaIiDC7Pm549pe5WDC3nTR1lVQUPR8bwWRSPmGbnbq6bDJ2Vhe5JUq7sqabtGQ/OpPOGrfHxRn1lozskikRIN8Z1Ef+3GgknV1LFfLXoR7LnZYMSGhsxpWarxgIlHQ2UtvvPVoTsed0nNw7iWGW58bEBgTDTUOjWZFVZb+TrjNie9NaAz7E+e/8OjgMAWIrBJNFRDK7WjUlOeg/auO9O1ja+BoUBDawAZXYwBgc2hIQqFlou0QUNjsDDIAARaEdgcGmpbgrWqunEFEA1t3JBB4H4IgIaGXHb1GzPUAgJbhgBoCDQEBIDAwAiAhgYegC2b1qAOEOiBAGgINAQEgMDACICGBh6AHlMHqgCBLUMANAQaAgJAYGAEQEMDD8CWTWtQBwj0QGBkNMQJoa/TW2DLnVPmveoxcV5BAu8AAY0ATjcb+qG8UdFQyPIxj3n84jll1ZPTNU9FJ5MqaShyEI4qSxANbW095sk1VKHHRHG62aC2MSoaKr1Fv6tdEo3EzvzKH3MyoDVYM7rYFgS01Ukbw/X9IDByGjKvoZqPmrYkDQUOKt5fnZxWJ1NTeh2R08O8OWE+Fg5We6pXyKeRlpX8/0oMUas45sx0wVP0JWcsi2qySCYLmsnOMQ+H4YSSSgb+oEm5VRjyRvlXVacwM2df0aNAWcfOzmd0HEj64zRGynybunaE12dA1w0iBcvlXwC/WWAlGyUYaUjda4YJH1eCwLhpqIhomtZlmYb4QmQUyn5C1h9Ppo6nklUrPrb+5FpktdVPBdDsn5T6xzvdLFh8TrRWnUMba8XzvMKSMycDsp6Q07Ym4YNSVar56C0hV1nIEnc+i7QVdZEyqDT17Weuscok8FU8fYyuu9LQ4cn5LK2sj0+mF3OipIqLW3Cwwp+eUWKWivUaBrH+1LNlaIgFaBj9NCLFkBV2gpJdERgxDYVkg9pRm0wk0lCwchVH1NiHcq1o/enQwZTa2cGxKpkMUZFjjcWXtcwxZ0ZIKi90py7UqT5NaVKdvnRKf6cAo1cRTcQhe6PCiiO+RNkJBCO//Cjxae3aKdA0K2jBWBjZXRSjZlCkkHxN0WXjDOTYQ9EIyiyNwPhoiCwm/Nn0hjTeDRYZHInOWb5tIBFhNCr2TtbvmLWokmKQam4nxFNdRt+3eH856ThM8mpqM9NQ1FoK7DcYRFXyxAalXn5dK4yCWlYPo9CVhiaceDcRXHvXhfAnJFgVDRkTl5jEn6wi0WzaBeaKON3MILyOj+OjocOjcAbxlJYtBafEkMeDJv7Ehl6zpJpwm2LbolposPXfXt/I5YPXSzhnOTGl+H8KHHwa0m4suabGwQQNZU/LF3FVlXzbyll4sinfSRjdiK5COpo/O2dw9VBG7sHpdjwcRMXYxXVabEaSrR/EUKCGhloE5uC0nar0nGSRx6/9EBgjDUlNrEm101AKWAr3pqZy1ndyAOnVMaI5v7itn3iDzQVHqj/dbNU0JOhACuz7c4BOVMl+IsvL61xAx3TmYCW9pouLMrH3VGwAEbxxOuG9ocSY7V1H4XPjem+oeRCD+tZmcjSU23R2rDjEy+Fn4kdpiri+PwTGTkPWo3ge9tdciqHI3KtFTdrxSc4gCSU+VZQ7coxYGSVxgdhwrdw4DpJPQ36thr5IHvIKUiTpK2nIbzDIkHURdiP936+rhTFlZHV/UeZ1msAhTEK0aJqNBWTXXjupdx7ihkEM+srWGgbF6ygJrEYcX947AiOnIbZaOUdVBl1Ao2iIbhsrJjK/ppMXs00Lo/RdJbs0l0xLsNJefRqysQa15jhVpRT10noGWd3a04npkiezwELZ1KMRxsKlqrtb1E6bGRwxak4x3XVTAStVIMRqZX0nGsLpZnm81n4xJho6vry+mZ9fnIUb4WEfxxw+QxNdsdqKBFHaKH+TIhcml8X8nCPzuIgQN6G19Wuvs6PSdKqX66IsYaDU+RI37Gk3Q/IdtZB5s+EkL61LIBqjUaMw9DSDwVlXD1Rbt8Y5vbyeXU7jnf4TesxH3bBv7Drv91eNR7T5kSiuWz+ILTRUtVk+RhBazoFnYmc79Pj+XhAYEw3R8ybysbeFeqeMDIJtRd+lihyUgou0fklgsQ9E143HDfJWJR/4NZ1VXm1dtyQ1ZZHmuUGxC1sTDQUmmlYK2j3dShHuiOUxqz9SX9AQASIaXCzSKWZWF2pQ8wiDKepKYYJDSvorqpOO5k88oygPVqOlsfgpYijFll3TqEXFRfPKDBoHsZGGRIt0aaVi5jVaJyuKYuPjfSEwKhpqU7KFGtqqw5iAABAYJQKbREPO1uMoMTVxDT4CASDQjMDm0BCFQoiZEfEBgS1EYHNoCIEPEAACW4oAaGgL55bmABi/AoGxIQAaAg0BASAwMAKgoYEHYGzzEuQBAutHADQEGgICQGBgBEBDAw/A+mce9AgExoYAaAg0BASAwMAIgIYGHoCxzUuQBwisH4Ex0xC9BlUl62h9fNF50al6jci+a7alz1+s34DQIxC4OwLjpSF+1VDQkE3EVUQxTEPXF2chP3z1X067BRq6u62gBSBwTwiMlYb4PXXKhSiTDTW/2so05NBNcy2ERUAACAyNwDhpiJZjV6ec80HSUHOijyVoiJd71Yqtyp5RpsiI6XK4sEmKzDODzFlBqTbESWF1iY3LnBtVZEcCKJVj4gud30OXF1mT8mQV0mXkWq3NloqLJLmc+kNLtWeD0xXjkBXBxUNAYIw0lN+kL50n/+SMzZI05J7AZbyRPy6uL0Lm6ZB/S5JLTM1zlVaC9qQwf5JZhoY4lFt4RBMQCBIa5grZhWQti2TRrFGcGxfpjQhb/V4xt5BobvU4OOPrg1kxMqpsLgLjoyFh8dZ5Yk4s7Q/ZOrvTELlQbkSRgvJG5WnB3MvCuR3lD6qdLGG8UI0Y0zEqE+3q48m88pQrTq1GGcNrkSOttVlPYEFDRdY0WZ6vV4yDURMftxuBsdGQclHjPDQSgqTswHSnIdVI0WNOMquKRZYR4RiHADWpIKWXWjkLl5YFlMpRAEkHiuxirsKQslpIUpJXa7OewKpf1YJaHd8LDhITXG89AuOiIeHk5G/a9NkDOUJRM3+ONTrTkHa5kobEplGmpNSLqKsqGkPhYrKdatvIy8dakYtQObNAvqiK5e5ieYIlrRZjrKdqtTbrCBy2wy7iySUhgX9EXo3CveCQFcTFQ0BgTDRURB/CeZIHKgdIXwaO6ExDmuyUF7E3xsPp43UioGAN4ktV0diKauf4hNP75yTzbRV5M1h0pAjF6YjKV2Woov5GEnpds1Zgyh5Ph8en3R+VCFw0UqSpduHKuejppMNOOBg18XG7ERgRDRE71P3lFUcd16QDf5xAyTIXeWw6rsN6kXKwghb17SHTjuJE1U7wzEqMLjREZZIuFcWUtkgdZdpS7KNqpWK1zToCC2qL/RIg86n9/l5wKDXFN1uMwIhoaHJsnzw8n93SLfBTOjJIeIK/G8rbRtl1BSlU/s9fmo96p0Z7Y8kX6hsu7Auj2zH9qkaMbVHFxuPJ3PITYrqzq8XtOR0YH1ZnDg2dz+TjoEWBvKyLEY0qwP0yi13IDX5S7T5wMGri43YjMCIaKoEOPsk+FmmFI6a0CaLj/0401HYCl6GP4GBXHW7YT+iwvbPzi8vpcfbMtLhbdlFGIaFkt5IOIhpytRUjtepEMFWLFWlq1ijOY6FaCKMT2+H4S4wXlcwHc68EB9F4pSy+3FYENouG2NzzAm1pGoreEp4wTCOqYpPSG5d9fFHQkFphisO2VI9JjOhs0c+Vjg4d5FpUPpOCWrGqWq3NloqLxxcFEXAsKTaM8k/28cU74pAVxMVDQGDUNGQHwK6nsg/gYl0IxO2hdXVnZhp83FIENomG9B0ueML6EWiMRrfUQ+xcCDXvAYHNoSEKheSOyfqd8OH2OOE77nTHAENwD04IptscGsLwD4ZA2FOTT2A+XEYGZdwHAqAheBQQAAIDIwAaGngA7mNuQZtAYLMQAA2BhoAAEBgYAdDQwAOwWbMWpAUC94EAaAg0BASAwMAIgIYGHoD7mFvQJhDYLARAQ6AhIAAEBkZgZDTEr2uod7Hy83LdH19Ur1YNjO9mTUqQFggMgsAIaeg2Z5gPZ43lN+w7vswR8xapt0NBRkAACIwXgZHRUPObk51ebeWcOLOQoGu8uA8y56BTIDBOBDaKhlQm9hqKiURWl0yDvpd/Vc6KRgaMEZasKTP70MtW/EdJ2lKGtpxLm7KpVgVCBoxgDV3Sa1CmEcrmE/5ur1L7DSKp7B/8CkhI9JGVDR9Tm/z/dMJaSmNWk9RJZ4kbp01Dqo1DYFw0VPqPAbRtXVa9Al5TkmOl0xN+V1NTVSMN7R2GKieh2WlIrkwezrx2EzOcTZmPUvLWmJbw+oaWmbFHTg+WEx4xHRiHV3mCKOnPLFennD7i5dI6kYqjBNKOm6YhmZWN0k5zglcid0+qTPoatMFec8vy4GIbEBgfDck5WgcXyUPq37OXqzailaKk2ufWHtVCQ3GwDbuVHisL8K8mLy3TVtq3Kqv7ycYqb9cy8/eyx8Da1GzOhRaOV9WHnTn9CricXxsFMFMFPgKBZREYFw3tHVIq1RhrxFMctBsLbylV1f7jeKw+5kwX6ENDVfCVhZEy8LWlQmKNlPVZFk4tmGjIzHXOry00FBFTFYt+OcprkiqLoUGr6CkXwAUQWBqBsdGQUYD9XEzs6rQs6wPkIeLIjSPp8MHJtftpjyJ3NX+317OzfJ8utKB9nns0lehjpB7dXVRNfsnXTv28eqIAkOiYzmXNf/JXfViI6CKCltknX1CZst/r2WXWtPyVDibgHNvNh6wlJjWDiI8DIvDu7fu/Pnz+59Pf9O/D57/evimFeff245dPf3+ZOD+Jwm+o2Adux2nqzcf8U+irvcHsvwdHI6ehYp9CLruyGuHC4RHy3LxTU3hsSUNiu+T4ZHoxJ+dPC6g6Gkon3MedmpAhzGO9OKIFDalOzelgzKRpb4jUVGziiUS9UBdMQ6IvVTF+Xx0f5u0NVb/icDHhjcbqRv3x3eTzP58+f/nz/fsf37z7cfLxT+Kjv94qmbkMkUszDb2nup//mkxkU6IK0RB19HZS/ftRdVSL4e7Bq02jIeYaySx5Bg6xD50mVP271DxCrihoxaMhDZxw4wiijoZMgxZorn6HRRlzro59tMwsrRaJZKB+iYaocMLKoyGlbNVyqbUIQqtiGXlcjBeBN+8UF3DM8uH9uyRwJJe3EyKRlmhIWcvR3uH7P//+p2pq8ldBcNYdUqf2+6cv/hg5DRV+Hnc6rCZ1i4XATdOAoI2ktEdRy+amVRGLhe1esUh0iSbDzb/Kg0/TnbUUYTkOL+MdK/BROARJExOvPYVImYaWO5VMUJ4jVSWJBs2aZjku+GZUCGjuOHz/58ePxFMcyxga+vH9l09///PnpE5+DqM+vo/WfgcaerL/66ho6OSc723rLWoVTShaET5QSwfZu9pOKGMPV+ujDosyphVxRNeEjiqbXyuWWSz637BnFl7Mz3l9FOVZGF6roSFaj0rovGgoL7uOz/hMZ72llX/Fic/C0vIcs5kXREMOsxCJ2Gjo7UfeTqpCJ81HOrAizvrMjLY8Vo+f/TQqGjqaXKhH9a5n8fTBNORFcBR1rvs+nbx+83//qx/Y4Qb1xO5sLfGmjIa1XAHR3b2Z2EK+qZ4wjGEFOXnfxxcjQfD2ND2dRKTTKRqyu1olDeUtb7oQx6iFGLDuVw2aBicNk7ZXlBkNAhzgmL0hHiyPhvYO372d6DVdVuRNWM1VvBNCp7Q5HXaR8tKvxR4efXs4LhpqseNqadCiWEs7Gc17vnBWN/fc40gUhxhjREDHL0pCn4YKL6Ni4abblw8f36tdJ+Ks92/fvBN74V7YVdj/7suu+9NfPd3/V0e6MsWUqoUEy/7qRSIFUnfuZVmpGsqDhhrAwU9rReANLcc+5a0c4yYdaejwiFjmzbu3dNON7vE767vYcrhJV4VLdcruPP/ZkEbDxz409PXui7q++3xPoZDc7Bg1AQUFQUN9Btp4CD6uAIHIQTp+ER7UmYbkgNLmUf1+UO0CUKvz6LsfGnjH/NSHhh5994MU+gFeg4Ye4KCPT+U2Djo82utFQ81E0/xrQOnJ/u+GaJo/9qGhx//z8/iGRMwAmpUhKhDYRgTsXrKvo09D9VvU5DvNyy59O7/G17pvTgd6WpqGvob+62AAAAJcSURBVN598eT733yda2RCYSAABFaKAHPB318m4slmfsq5uP/l0ZC6Yf/m44fPf03ey01o+VTRuwk/q623qO0TAEa1ne+7Pi6UQ6SlaejRtz88ffnKdIyPQAAIrA8BvjWW7m3F18r4Y3HP3qOhcA8+bUK/m4gXysp3yn4Ub659+vvLh48fvZfXqrXI7sHrr/deZn7peLE0DT1+9tPuwev1IY4ICwgAgc1B4JtldqYzSS1JQ7svEAqBgoEAEHARePzv/2RmWepiORpCKOSijy+BABDYefbLUtQjCy9BQ998h12hag0MswMCQCAj8F9946BARl1p6NHewe6LV9gVyrjjAggAgb3Do92D1/32g5aOhuju2P7vAB0IAAEgIBHY+f7XHvfFJAF1jYYe/fcPuy8RB2E5BgSAQIXAk/3fl31GsWSf/E3Lomzn+S97uD2/ObdL5UyFayCwcgR2D17tPP95qffFMtc0XLTQ0MrVQINAAAhsDAIHR7sHr56++OPJ/q+Pn/20wvDHUFILDZnS+AgEgAAQWDkCoKH9lWOKBoEAEFgKAdAQaAgIAIGBEQANDTwAS00aKAwEthIB0BBoCAgAgYERAA0NPABbOblBKSCwFAKgIdAQEAACAyMAGhp4AJaaNFAYCGwlAqAh0BAQAAIDIwAaGngAtnJyg1JAYCkEQEOgISAABAZGADQ08AAsNWmgMBDYSgRAQ6AhIAAEBkYANDTwAGzl5AalgMBSCICGQENAAAgMjABoaOABWGrSQGEgsJUIgIZAQ0AACAyMAGho4AHYyskNSgGBpRD4f+u634+AbhogAAAAAElFTkSuQmCC)"
      ],
      "metadata": {
        "id": "OJ_L261o3FaF"
      }
    },
    {
      "cell_type": "markdown",
      "source": [
        "1) Что это такое (из чего он состоит)?\n",
        "\n",
        "2) Где он применяется?\n",
        "\n",
        "3) Как его использовать?\n",
        "\n",
        "4) Плюсы и минусы\n",
        "\n",
        "5) Альтернативы"
      ],
      "metadata": {
        "id": "ptoZRZnN_mqy"
      }
    },
    {
      "cell_type": "code",
      "execution_count": null,
      "metadata": {
        "colab": {
          "base_uri": "https://localhost:8080/"
        },
        "id": "0_hgGEfTvBjR",
        "outputId": "8d56b19f-8f1c-479a-a66f-e9c878e04be4"
      },
      "outputs": [
        {
          "output_type": "stream",
          "name": "stdout",
          "text": [
            "10758024\n",
            "<class 'int'>\n",
            "10\n",
            "28\n",
            "88\n"
          ]
        }
      ],
      "source": [
        "x = 10\n",
        "print(id(10))\n",
        "print(type(10))\n",
        "print(x)\n",
        "\n",
        "import sys\n",
        "print(sys.getsizeof(x))\n",
        "\n",
        "y = [1, 2, 3]\n",
        "print(sys.getsizeof(y))"
      ]
    },
    {
      "cell_type": "code",
      "source": [
        "print(f\"{2 ** 0.5:.2f}\")"
      ],
      "metadata": {
        "id": "YhWcYUy4y-Bu",
        "colab": {
          "base_uri": "https://localhost:8080/"
        },
        "outputId": "351a8815-c7d7-45c4-cc4f-7d103715e0c3"
      },
      "execution_count": null,
      "outputs": [
        {
          "output_type": "stream",
          "name": "stdout",
          "text": [
            "1.41\n"
          ]
        }
      ]
    },
    {
      "cell_type": "code",
      "source": [
        "digit = 8 % 9\n",
        "print(digit)"
      ],
      "metadata": {
        "colab": {
          "base_uri": "https://localhost:8080/"
        },
        "id": "idarjGSr1sz1",
        "outputId": "7ad9fcac-cf0d-47d5-ae5e-334ae94af5d5"
      },
      "execution_count": null,
      "outputs": [
        {
          "output_type": "stream",
          "name": "stdout",
          "text": [
            "8\n"
          ]
        }
      ]
    },
    {
      "cell_type": "code",
      "source": [
        "# not x == 5 ==> x != 5"
      ],
      "metadata": {
        "id": "8G8PaaAp1s5D"
      },
      "execution_count": null,
      "outputs": []
    },
    {
      "cell_type": "code",
      "source": [
        "print(ord('a'), ord('A'))\n",
        "print(ord('s') > ord('m'))\n",
        "print(ord('m') > ord('s'))\n",
        "\n",
        "# возвращает код символа из таблицы кодировки"
      ],
      "metadata": {
        "colab": {
          "base_uri": "https://localhost:8080/"
        },
        "id": "CbdbUgx31s9H",
        "outputId": "6ef335d5-d8f2-41dc-e56d-d6bdf7cee0ac"
      },
      "execution_count": null,
      "outputs": [
        {
          "output_type": "stream",
          "name": "stdout",
          "text": [
            "97 65\n",
            "True\n",
            "False\n"
          ]
        }
      ]
    },
    {
      "cell_type": "code",
      "source": [
        "print(chr(116))"
      ],
      "metadata": {
        "colab": {
          "base_uri": "https://localhost:8080/"
        },
        "id": "11F9kl3r1tQH",
        "outputId": "05ce60e6-90da-41ce-b562-abe0d032489a"
      },
      "execution_count": null,
      "outputs": [
        {
          "output_type": "stream",
          "name": "stdout",
          "text": [
            "t\n"
          ]
        }
      ]
    },
    {
      "cell_type": "code",
      "source": [
        "text = input()\n",
        "if 'fuck' in text:\n",
        "  print('there is a good word')\n",
        "else:\n",
        "  print('there is not a nice word')"
      ],
      "metadata": {
        "colab": {
          "base_uri": "https://localhost:8080/"
        },
        "id": "JButBHMC1tUJ",
        "outputId": "211190a4-8eb7-4c7e-90e4-f3850f56fa98"
      },
      "execution_count": null,
      "outputs": [
        {
          "output_type": "stream",
          "name": "stdout",
          "text": [
            "all of us fucking damn right yoo\n",
            "there is a good word\n"
          ]
        }
      ]
    },
    {
      "cell_type": "code",
      "source": [
        "def test(value):\n",
        "    match value:\n",
        "        case 1:\n",
        "            print(\"Один\")\n",
        "        case 2:\n",
        "            print(\"Два\")\n",
        "        case _:\n",
        "            print(\"Другое\")\n",
        "\n",
        "test(1)\n",
        "test(2)\n",
        "test(_)"
      ],
      "metadata": {
        "colab": {
          "base_uri": "https://localhost:8080/"
        },
        "id": "IaXVYRDG1tYj",
        "outputId": "8c8bb52a-55e0-45fe-bc3c-155b77978ec6"
      },
      "execution_count": null,
      "outputs": [
        {
          "output_type": "stream",
          "name": "stdout",
          "text": [
            "Один\n",
            "Два\n",
            "Другое\n"
          ]
        }
      ]
    },
    {
      "cell_type": "code",
      "source": [
        "m = 12\n",
        "n = 19\n",
        "k = 25\n",
        "\n",
        "# максимальное число\n",
        "print(max(m, n, k))\n",
        "\n",
        "line_1 = \"m\"\n",
        "line_2 = \"n\"\n",
        "line_3 = \"k\"\n",
        "\n",
        "# минимальная лексикографически строка\n",
        "print(min(line_1, line_2, line_3))\n",
        "\n",
        "# количество цифр в числе 2 в степени 2022\n",
        "print(2 ** 2022)\n",
        "print(str(2 ** 2022))\n",
        "print(len(str(2 ** 2022)))\n",
        "\n",
        "# print(abs(str(2 ** 2022)))"
      ],
      "metadata": {
        "colab": {
          "base_uri": "https://localhost:8080/"
        },
        "id": "MQwDoPrz1t3G",
        "outputId": "99c85197-f6b7-4f75-bc35-7b7c4a9154df"
      },
      "execution_count": null,
      "outputs": [
        {
          "output_type": "stream",
          "name": "stdout",
          "text": [
            "25\n",
            "k\n",
            "481560916771158684800786922703235625631274322714142263414417884163925873322306437689024231009526751394401758326916367106052034484602375642882110959089521812209947069992139877256008949136579813164413834190131240610432508865633901300457687591589632190325582710683886781973951695733384278544896131740867054246692573031629150247882082682647773168904426336814855367810693467547461780797071163567159452928068892906992787178135839959347223507647240845924670958716173279750751341651541295792537288393481542519773223140547524361834615428274169543954961376881442030303829940191406452725012875774576546969913778507874304\n",
            "481560916771158684800786922703235625631274322714142263414417884163925873322306437689024231009526751394401758326916367106052034484602375642882110959089521812209947069992139877256008949136579813164413834190131240610432508865633901300457687591589632190325582710683886781973951695733384278544896131740867054246692573031629150247882082682647773168904426336814855367810693467547461780797071163567159452928068892906992787178135839959347223507647240845924670958716173279750751341651541295792537288393481542519773223140547524361834615428274169543954961376881442030303829940191406452725012875774576546969913778507874304\n",
            "609\n"
          ]
        }
      ]
    },
    {
      "cell_type": "code",
      "source": [
        "saved_pwd = \"right_password\"\n",
        "pwd = input(\"Введите пароль для входа: \")\n",
        "while pwd != saved_pwd:\n",
        "    pwd = input(\"Введите пароль для входа: \")\n",
        "print(\"Пароль верный. Вход разрешён.\")"
      ],
      "metadata": {
        "colab": {
          "base_uri": "https://localhost:8080/"
        },
        "id": "nw4ZefF9V7Ka",
        "outputId": "2139533e-30ee-4097-bf91-9ff698e04157"
      },
      "execution_count": null,
      "outputs": [
        {
          "output_type": "stream",
          "name": "stdout",
          "text": [
            "Введите пароль для входа: lll\n",
            "Введите пароль для входа: ooooo\n",
            "Введите пароль для входа: right_password\n",
            "Пароль верный. Вход разрешён.\n"
          ]
        }
      ]
    },
    {
      "cell_type": "code",
      "source": [
        "saved_pwd = \"right_password\"\n",
        "while input(\"Введите пароль для входа: \") != saved_pwd:\n",
        "    pass\n",
        "print(\"Пароль верный. Вход разрешён.\")"
      ],
      "metadata": {
        "colab": {
          "base_uri": "https://localhost:8080/"
        },
        "id": "a7ozT8qoV7Nk",
        "outputId": "5ee668ec-d6b8-4d4c-a013-64e7522f6240"
      },
      "execution_count": null,
      "outputs": [
        {
          "output_type": "stream",
          "name": "stdout",
          "text": [
            "Введите пароль для входа: fffff\n",
            "Введите пароль для входа: dddddd\n",
            "Введите пароль для входа: right_password\n",
            "Пароль верный. Вход разрешён.\n"
          ]
        }
      ]
    },
    {
      "cell_type": "code",
      "source": [
        "name = input(\"Введите имя: \")\n",
        "while name != \"СТОП\":\n",
        "    print(f\"Привет, {name}!\")\n",
        "    name = input(\"Введите имя: \")\n",
        "print(\"Программа завершена.\")"
      ],
      "metadata": {
        "colab": {
          "base_uri": "https://localhost:8080/"
        },
        "id": "y9xnMtaxV7Qj",
        "outputId": "0cdb3673-98c5-44de-f91d-f39009af757d"
      },
      "execution_count": null,
      "outputs": [
        {
          "output_type": "stream",
          "name": "stdout",
          "text": [
            "Введите имя: jjj\n",
            "Привет, jjj!\n",
            "Введите имя: jks\n",
            "Привет, jks!\n",
            "Введите имя: СТОП\n",
            "Программа завершена.\n"
          ]
        }
      ]
    },
    {
      "cell_type": "code",
      "source": [
        "while (name := input('enter name: ')) != 'stop':\n",
        "  print(f'name {name}')\n",
        "print('finish')"
      ],
      "metadata": {
        "colab": {
          "base_uri": "https://localhost:8080/"
        },
        "id": "2dbLOj9bV7Uh",
        "outputId": "aea82fbd-45f3-479e-d0d4-110497d6ebef"
      },
      "execution_count": null,
      "outputs": [
        {
          "output_type": "stream",
          "name": "stdout",
          "text": [
            "enter name: kaf;a\n",
            "name kaf;a\n",
            "enter name: stop\n",
            "finish\n"
          ]
        }
      ]
    },
    {
      "cell_type": "code",
      "source": [
        "n = int(input(\"Введите n: \"))\n",
        "for i in range(n):\n",
        "    print(i)\n",
        "    i = 100"
      ],
      "metadata": {
        "colab": {
          "base_uri": "https://localhost:8080/"
        },
        "id": "-bmn0pGlV7XV",
        "outputId": "39a70be3-7243-4947-82d0-21974aa879c9"
      },
      "execution_count": null,
      "outputs": [
        {
          "output_type": "stream",
          "name": "stdout",
          "text": [
            "Введите n: 9\n",
            "0\n",
            "1\n",
            "2\n",
            "3\n",
            "4\n",
            "5\n",
            "6\n",
            "7\n",
            "8\n"
          ]
        }
      ]
    },
    {
      "cell_type": "code",
      "source": [
        "n = int(input(\"Введите число n: \"))  # Запрос числа\n",
        "total = 0  # Инициализация суммы\n",
        "\n",
        "for i in range(1, n + 1):  # Цикл от 1 до n\n",
        "    total += i  # Суммирование\n",
        "\n",
        "print(\"Сумма чисел от 1 до\", n, \"равна\", total)  # Вывод результата"
      ],
      "metadata": {
        "colab": {
          "base_uri": "https://localhost:8080/"
        },
        "id": "EE-kR_FMV7ax",
        "outputId": "000b0493-4d97-400a-e7db-2d63cd3d1917"
      },
      "execution_count": null,
      "outputs": [
        {
          "output_type": "stream",
          "name": "stdout",
          "text": [
            "Введите число n: 9\n",
            "Сумма чисел от 1 до 9 равна 45\n"
          ]
        }
      ]
    },
    {
      "cell_type": "code",
      "source": [
        "# for i in range(26):\n",
        "#     for j in range(26):\n",
        "#        print(f\"{chr(ord('a') + i)}{chr(ord('a') + j)}\")"
      ],
      "metadata": {
        "id": "6NkievWhV7ea"
      },
      "execution_count": null,
      "outputs": []
    },
    {
      "cell_type": "code",
      "source": [
        "text = input()\n",
        "print(text[0])\n",
        "print(len(text))\n",
        "# print(text[len(text)]) # out of range = error\n",
        "print(text[len(text) -1])"
      ],
      "metadata": {
        "id": "SB7hm17AV7hw",
        "colab": {
          "base_uri": "https://localhost:8080/"
        },
        "outputId": "3126b715-62f7-4e02-e83e-43a06e50a61a"
      },
      "execution_count": null,
      "outputs": [
        {
          "output_type": "stream",
          "name": "stdout",
          "text": [
            "titties\n",
            "t\n",
            "7\n",
            "s\n"
          ]
        }
      ]
    },
    {
      "cell_type": "code",
      "source": [
        "text = input(\"Введите строку: \")\n",
        "i = int(input(\"Введите индекс символа: \"))\n",
        "if i < len(text):\n",
        "    print(text[i])\n",
        "else:\n",
        "    print(\"Индекс выходит за пределы строки\")"
      ],
      "metadata": {
        "colab": {
          "base_uri": "https://localhost:8080/"
        },
        "id": "Pnr3ck9vyFF9",
        "outputId": "c3c0cc77-377d-4cba-efeb-92253443e1bb"
      },
      "execution_count": null,
      "outputs": [
        {
          "output_type": "stream",
          "name": "stdout",
          "text": [
            "Введите строку: cock\n",
            "Введите индекс символа: 9\n",
            "Индекс выходит за пределы строки\n"
          ]
        }
      ]
    },
    {
      "cell_type": "code",
      "source": [
        "text = input()\n",
        "for i in range(len(text)):\n",
        "    print(text[i])"
      ],
      "metadata": {
        "colab": {
          "base_uri": "https://localhost:8080/"
        },
        "id": "7o9qQ_nryFIo",
        "outputId": "6d8f82b4-7f67-4163-c40a-959c72512529"
      },
      "execution_count": null,
      "outputs": [
        {
          "output_type": "stream",
          "name": "stdout",
          "text": [
            "fadilsa\n",
            "f\n",
            "a\n",
            "d\n",
            "i\n",
            "l\n",
            "s\n",
            "a\n"
          ]
        }
      ]
    },
    {
      "cell_type": "code",
      "source": [
        "s = input()\n",
        "for i in s:\n",
        "  print(i)"
      ],
      "metadata": {
        "colab": {
          "base_uri": "https://localhost:8080/"
        },
        "id": "mbfv6EbsyFLL",
        "outputId": "2674a907-fa78-4fc8-9634-3e1616124717"
      },
      "execution_count": null,
      "outputs": [
        {
          "output_type": "stream",
          "name": "stdout",
          "text": [
            "fadilsa\n",
            "f\n",
            "a\n",
            "d\n",
            "i\n",
            "l\n",
            "s\n",
            "a\n"
          ]
        }
      ]
    },
    {
      "cell_type": "code",
      "source": [
        "line = input()\n",
        "for i, lett in enumerate(line):\n",
        "  print(i, lett)"
      ],
      "metadata": {
        "colab": {
          "base_uri": "https://localhost:8080/"
        },
        "id": "8182Va9tyFPc",
        "outputId": "ef7d433b-2cc8-46be-aa7b-8d2ec4dabeaf"
      },
      "execution_count": null,
      "outputs": [
        {
          "output_type": "stream",
          "name": "stdout",
          "text": [
            "fadilsa\n",
            "0 f\n",
            "1 a\n",
            "2 d\n",
            "3 i\n",
            "4 l\n",
            "5 s\n",
            "6 a\n"
          ]
        }
      ]
    },
    {
      "cell_type": "code",
      "source": [
        "nums = []\n",
        "for i in range(3):\n",
        "  nums.append(int(input()))\n",
        "print(nums)"
      ],
      "metadata": {
        "colab": {
          "base_uri": "https://localhost:8080/"
        },
        "id": "l1uu1Gm4yFSf",
        "outputId": "f22abbe6-d639-43b7-cb0c-ef284eebd46f"
      },
      "execution_count": null,
      "outputs": [
        {
          "output_type": "stream",
          "name": "stdout",
          "text": [
            "1\n",
            "2\n",
            "3\n",
            "[1, 2, 3]\n"
          ]
        }
      ]
    },
    {
      "cell_type": "code",
      "source": [
        "vowels = {\"а\", \"е\", \"ё\", \"и\", \"о\", \"у\", \"ы\", \"э\", \"ю\", \"я\"}\n",
        "for letter in vowels:\n",
        "    print(letter)\n"
      ],
      "metadata": {
        "colab": {
          "base_uri": "https://localhost:8080/"
        },
        "id": "5mbw8hpBFcTo",
        "outputId": "9822c847-20d1-4f25-b251-9c48b0e02fe1"
      },
      "execution_count": null,
      "outputs": [
        {
          "output_type": "stream",
          "name": "stdout",
          "text": [
            "о\n",
            "у\n",
            "э\n",
            "е\n",
            "ы\n",
            "ю\n",
            "а\n",
            "ё\n",
            "и\n",
            "я\n"
          ]
        }
      ]
    },
    {
      "cell_type": "code",
      "source": [
        "s1 = {1, 2, 3}\n",
        "s2 = {3, 4, 5}\n",
        "unionSets = s1 | s2 # use operator | or union()\n",
        "print(unionSets)\n",
        "\n",
        "print(s1 & s2)\n",
        "intersection = s1 & s2\n",
        "print(intersection)\n",
        "\n",
        "print(s1 - s2)\n",
        "print(s1.difference(s2))\n",
        "\n",
        "print(s1 ^ s2)\n",
        "print(s1.symmetric_difference(s2))"
      ],
      "metadata": {
        "colab": {
          "base_uri": "https://localhost:8080/"
        },
        "id": "Ci7naBinFcWe",
        "outputId": "d6890416-b3e0-4f94-fecf-5a782b62566f"
      },
      "execution_count": null,
      "outputs": [
        {
          "output_type": "stream",
          "name": "stdout",
          "text": [
            "{1, 2, 3, 4, 5}\n",
            "{3}\n",
            "{3}\n",
            "{1, 2}\n",
            "{1, 2}\n",
            "{1, 2, 4, 5}\n",
            "{1, 2, 4, 5}\n"
          ]
        }
      ]
    },
    {
      "cell_type": "code",
      "source": [
        "vowels = {\"а\", \"е\", \"ё\", \"и\", \"о\", \"у\", \"ы\", \"э\", \"ю\", \"я\"}\n",
        "letters = set('collection')\n",
        "print(', '.join(vowels & letters))"
      ],
      "metadata": {
        "colab": {
          "base_uri": "https://localhost:8080/"
        },
        "id": "uqfFZy_OFcY_",
        "outputId": "2b37eeba-7411-49a4-fcf6-435de55bc1b8"
      },
      "execution_count": null,
      "outputs": [
        {
          "output_type": "stream",
          "name": "stdout",
          "text": [
            "и, е, я, о\n"
          ]
        }
      ]
    },
    {
      "cell_type": "code",
      "source": [
        "countries = dict()\n",
        "country = input()\n",
        "str_number = 0\n",
        "\n",
        "while country != 'stop':\n",
        "  if country not in countries:\n",
        "    countries[country] = [str_number]\n",
        "  else:\n",
        "    countries[country].append(str_number)\n",
        "\n",
        "  str_number += 1\n",
        "  country = input()\n",
        "\n",
        "for country in countries:\n",
        "  print(country, countries[country])"
      ],
      "metadata": {
        "id": "30-Hb13DFcnF",
        "colab": {
          "base_uri": "https://localhost:8080/"
        },
        "outputId": "09f5d796-0f78-4833-ad5b-30d3a3f96f09"
      },
      "execution_count": null,
      "outputs": [
        {
          "output_type": "stream",
          "name": "stdout",
          "text": [
            "russia\n",
            "morocco\n",
            "qatar\n",
            "stop\n",
            "russia [0]\n",
            "morocco [1]\n",
            "qatar [2]\n"
          ]
        }
      ]
    },
    {
      "cell_type": "code",
      "source": [
        "qs = dict()\n",
        "q = input()\n",
        "s_index = 0\n",
        "\n",
        "while q != 'stop':\n",
        "  qs[q] = qs.get(q, []) + [s_index]\n",
        "\n",
        "  s_index += 1\n",
        "  q = input()\n",
        "\n",
        "for q in qs:\n",
        "  print(q, qs[q])"
      ],
      "metadata": {
        "id": "742qLOmGFcpl",
        "colab": {
          "base_uri": "https://localhost:8080/"
        },
        "outputId": "f8b1992e-6ac4-483f-c38a-c3215f2933a5"
      },
      "execution_count": null,
      "outputs": [
        {
          "output_type": "stream",
          "name": "stdout",
          "text": [
            "rus\n",
            "iq\n",
            "su\n",
            "stop\n",
            "rus [0]\n",
            "iq [1]\n",
            "su [2]\n"
          ]
        }
      ]
    },
    {
      "cell_type": "code",
      "source": [
        "numbers = []\n",
        "for i in range(5):\n",
        "  numbers.append(int(input())) # list comprehnsive - списочные выражение\n",
        "print(numbers)"
      ],
      "metadata": {
        "id": "XKnvgvnFFcr-",
        "colab": {
          "base_uri": "https://localhost:8080/"
        },
        "outputId": "e412e835-4180-4e8d-8a5e-510e48ccca66"
      },
      "execution_count": null,
      "outputs": [
        {
          "output_type": "stream",
          "name": "stdout",
          "text": [
            "1\n",
            "2\n",
            "3\n",
            "4\n",
            "5\n",
            "[1, 2, 3, 4, 5]\n"
          ]
        }
      ]
    },
    {
      "cell_type": "code",
      "source": [
        "numbers = [int(input()) for i in range(5)]\n",
        "print(numbers) # generator - генератор"
      ],
      "metadata": {
        "id": "3KvSO_ZiFcuV",
        "colab": {
          "base_uri": "https://localhost:8080/"
        },
        "outputId": "7e387541-eb16-4b0e-c62d-42d1819a004b"
      },
      "execution_count": null,
      "outputs": [
        {
          "output_type": "stream",
          "name": "stdout",
          "text": [
            "1\n",
            "2\n",
            "3\n",
            "4\n",
            "5\n",
            "[1, 2, 3, 4, 5]\n"
          ]
        }
      ]
    },
    {
      "cell_type": "code",
      "source": [
        "numbers = [int(input()) for i in range(5)]\n",
        "avg = sum(numbers) // len(numbers)\n",
        "numbers = [element for element in numbers if element > avg]\n",
        "print(numbers)"
      ],
      "metadata": {
        "id": "ATS77UOTFczR",
        "colab": {
          "base_uri": "https://localhost:8080/"
        },
        "outputId": "cd374e86-4562-44fa-f421-ff519e36559b"
      },
      "execution_count": null,
      "outputs": [
        {
          "output_type": "stream",
          "name": "stdout",
          "text": [
            "1\n",
            "2\n",
            "3\n",
            "4\n",
            "5\n",
            "[4, 5]\n"
          ]
        }
      ]
    },
    {
      "cell_type": "code",
      "source": [
        "M = [i*i for i in range(5)]\n",
        "print(M)"
      ],
      "metadata": {
        "id": "iK3Ed0vfFc2H",
        "colab": {
          "base_uri": "https://localhost:8080/"
        },
        "outputId": "3cea71aa-1365-44cd-fa60-1aea4ba52410"
      },
      "execution_count": null,
      "outputs": [
        {
          "output_type": "stream",
          "name": "stdout",
          "text": [
            "[0, 1, 4, 9, 16]\n"
          ]
        }
      ]
    },
    {
      "cell_type": "code",
      "source": [
        "s = [x*x for x in range(10) if x%2 == 0]\n",
        "print(s)"
      ],
      "metadata": {
        "id": "vOiw7UVGFc4z",
        "colab": {
          "base_uri": "https://localhost:8080/"
        },
        "outputId": "bbb45488-79be-4b45-f5ec-72a3eaa19766"
      },
      "execution_count": null,
      "outputs": [
        {
          "output_type": "stream",
          "name": "stdout",
          "text": [
            "[0, 4, 16, 36, 64]\n"
          ]
        }
      ]
    },
    {
      "cell_type": "code",
      "source": [
        "pairs = [(x, y) for x in [1, 2] for y in [3, 4]]\n",
        "print(pairs)"
      ],
      "metadata": {
        "id": "NMER7KCjFdDq",
        "colab": {
          "base_uri": "https://localhost:8080/"
        },
        "outputId": "a5de0f55-9d0b-46a0-da29-bf7caf92ee98"
      },
      "execution_count": null,
      "outputs": [
        {
          "output_type": "stream",
          "name": "stdout",
          "text": [
            "[(1, 3), (1, 4), (2, 3), (2, 4)]\n"
          ]
        }
      ]
    },
    {
      "cell_type": "code",
      "source": [
        "x = [1, 2, 3]\n",
        "print(id(x))\n",
        "x.append(4)\n",
        "print(id(x))"
      ],
      "metadata": {
        "id": "pe7LKhswFdGW",
        "colab": {
          "base_uri": "https://localhost:8080/"
        },
        "outputId": "ee348f02-74fd-4c33-a45c-b502f18ced82"
      },
      "execution_count": null,
      "outputs": [
        {
          "output_type": "stream",
          "name": "stdout",
          "text": [
            "137092351484736\n",
            "137092351484736\n"
          ]
        }
      ]
    },
    {
      "cell_type": "code",
      "source": [
        "generator = (x*x for x in range(5))\n",
        "print(generator)"
      ],
      "metadata": {
        "id": "F2PRqVQtFdI7",
        "colab": {
          "base_uri": "https://localhost:8080/"
        },
        "outputId": "f0d70fd9-1a57-4eef-e0c7-7fb900392d94"
      },
      "execution_count": null,
      "outputs": [
        {
          "output_type": "stream",
          "name": "stdout",
          "text": [
            "<generator object <genexpr> at 0x7caf14522670>\n"
          ]
        }
      ]
    },
    {
      "cell_type": "code",
      "source": [
        "gen = (x for x in range(3))\n",
        "print(list(gen))  # [0, 1, 2]\n",
        "print(list(gen))  # []"
      ],
      "metadata": {
        "id": "ajVzsZXxFdLv",
        "colab": {
          "base_uri": "https://localhost:8080/"
        },
        "outputId": "dd6a3b99-7e0c-49ea-d572-8c6a2dce0866"
      },
      "execution_count": null,
      "outputs": [
        {
          "output_type": "stream",
          "name": "stdout",
          "text": [
            "[0, 1, 2]\n",
            "[]\n"
          ]
        }
      ]
    },
    {
      "cell_type": "code",
      "source": [
        "matrix = [[int(x) for x in input().split()] for i in range(5)]\n",
        "print(matrix)"
      ],
      "metadata": {
        "id": "U6bLn2KaFdPH",
        "colab": {
          "base_uri": "https://localhost:8080/"
        },
        "outputId": "8f07a260-f793-4cd2-db52-a984491ccf9f"
      },
      "execution_count": null,
      "outputs": [
        {
          "output_type": "stream",
          "name": "stdout",
          "text": [
            "1\n",
            "2\n",
            "3\n",
            "4\n",
            "5\n",
            "[[1], [2], [3], [4], [5]]\n"
          ]
        }
      ]
    },
    {
      "cell_type": "code",
      "source": [
        "zeros = [[0] * 5] * 5\n",
        "print(zeros)\n",
        "zeros[0][0] = 1\n",
        "print(zeros)"
      ],
      "metadata": {
        "colab": {
          "base_uri": "https://localhost:8080/"
        },
        "id": "p6RkUsB3KjV2",
        "outputId": "2194cd1e-a2bf-45a7-9d05-b0627e384527"
      },
      "execution_count": null,
      "outputs": [
        {
          "output_type": "stream",
          "name": "stdout",
          "text": [
            "[[0, 0, 0, 0, 0], [0, 0, 0, 0, 0], [0, 0, 0, 0, 0], [0, 0, 0, 0, 0], [0, 0, 0, 0, 0]]\n",
            "[[1, 0, 0, 0, 0], [1, 0, 0, 0, 0], [1, 0, 0, 0, 0], [1, 0, 0, 0, 0], [1, 0, 0, 0, 0]]\n"
          ]
        }
      ]
    },
    {
      "cell_type": "code",
      "source": [
        "from timeit import timeit\n",
        "\n",
        "print(round(timeit(\"s = '; '.join(str(x) for x in range(10 ** 7))\", number=10), 3))\n",
        "\n",
        "print(round(timeit(\"s = '; '.join([str(x) for x in list(range(10 ** 7))])\", number=10), 3))"
      ],
      "metadata": {
        "colab": {
          "base_uri": "https://localhost:8080/"
        },
        "id": "US7ilV1eKjYs",
        "outputId": "0730d810-20d9-4b2d-a147-0c2f7ef111e7"
      },
      "execution_count": null,
      "outputs": [
        {
          "output_type": "stream",
          "name": "stdout",
          "text": [
            "21.988\n",
            "22.299\n"
          ]
        }
      ]
    },
    {
      "cell_type": "code",
      "source": [
        "names = [\"Ali\", \"Sara\"]\n",
        "ages = [30, 25]\n",
        "for name, age in zip(names, ages):\n",
        "    print(name, age)"
      ],
      "metadata": {
        "id": "2zW5GOpbKjb3",
        "colab": {
          "base_uri": "https://localhost:8080/"
        },
        "outputId": "6e597d6a-8584-42a2-bfeb-f8cfb6b2957a"
      },
      "execution_count": null,
      "outputs": [
        {
          "output_type": "stream",
          "name": "stdout",
          "text": [
            "Ali 30\n",
            "Sara 25\n"
          ]
        }
      ]
    },
    {
      "cell_type": "code",
      "source": [
        "import itertools\n",
        "\n",
        "print(itertools.product(\"ABC\", repeat=2))"
      ],
      "metadata": {
        "id": "qYC4OVNMKjev",
        "colab": {
          "base_uri": "https://localhost:8080/"
        },
        "outputId": "380b64fb-fcf7-421d-9fb8-d921487d0ec4"
      },
      "execution_count": null,
      "outputs": [
        {
          "output_type": "stream",
          "name": "stdout",
          "text": [
            "<itertools.product object at 0x7f932213ee80>\n"
          ]
        }
      ]
    },
    {
      "cell_type": "code",
      "source": [
        "from itertools import product\n",
        "print(product(\"ABC\", repeat=2))"
      ],
      "metadata": {
        "id": "q4IDhSUfKjhJ",
        "colab": {
          "base_uri": "https://localhost:8080/"
        },
        "outputId": "7729d594-b038-4659-c424-f4e15c932750"
      },
      "execution_count": null,
      "outputs": [
        {
          "output_type": "stream",
          "name": "stdout",
          "text": [
            "<itertools.product object at 0x7f9322a79d80>\n"
          ]
        }
      ]
    },
    {
      "cell_type": "code",
      "source": [
        "from itertools import count\n",
        "\n",
        "for value in count(0, 0.1):\n",
        "    if value > 1:\n",
        "        break\n",
        "    print(round(value, 1))"
      ],
      "metadata": {
        "id": "u8ZWCFfoKjkU",
        "colab": {
          "base_uri": "https://localhost:8080/"
        },
        "outputId": "a0b72491-3ac8-4838-dd77-bd177f2b1694"
      },
      "execution_count": null,
      "outputs": [
        {
          "output_type": "stream",
          "name": "stdout",
          "text": [
            "0\n",
            "0.1\n",
            "0.2\n",
            "0.3\n",
            "0.4\n",
            "0.5\n",
            "0.6\n",
            "0.7\n",
            "0.8\n",
            "0.9\n",
            "1.0\n"
          ]
        }
      ]
    },
    {
      "cell_type": "code",
      "source": [
        "from itertools import cycle\n",
        "\n",
        "s = \"\"\n",
        "for letter in cycle(\"ABC\"):\n",
        "    if len(s) == 10:\n",
        "        break\n",
        "    s += letter\n",
        "\n",
        "print(s)"
      ],
      "metadata": {
        "id": "ehqpJmerKjoe",
        "colab": {
          "base_uri": "https://localhost:8080/"
        },
        "outputId": "07ffa674-1342-455b-cf97-3417c2d4c4f8"
      },
      "execution_count": null,
      "outputs": [
        {
          "output_type": "stream",
          "name": "stdout",
          "text": [
            "ABCABCABCA\n"
          ]
        }
      ]
    },
    {
      "cell_type": "code",
      "source": [
        "from itertools import chain\n",
        "\n",
        "values = list(chain.from_iterable([\"АБВ\", \"ГДЕ\", \"ЖЗИ\"]))\n",
        "\n",
        "print(values)"
      ],
      "metadata": {
        "id": "9MYqTHzyKjtr",
        "colab": {
          "base_uri": "https://localhost:8080/"
        },
        "outputId": "de8c7436-4c34-4f93-ba53-76207e20cf3c"
      },
      "execution_count": null,
      "outputs": [
        {
          "output_type": "stream",
          "name": "stdout",
          "text": [
            "['А', 'Б', 'В', 'Г', 'Д', 'Е', 'Ж', 'З', 'И']\n"
          ]
        }
      ]
    },
    {
      "cell_type": "code",
      "source": [
        "from itertools import product\n",
        "\n",
        "# values = list(product([1, 2, 3], ['aa', 'bb', 'cc']))\n",
        "values = list(product([1, 2, 3], 'abc'))\n",
        "print(values)"
      ],
      "metadata": {
        "id": "OSfeERBTKjwx",
        "colab": {
          "base_uri": "https://localhost:8080/"
        },
        "outputId": "1da55d5c-6e59-4454-829f-e0cf3750affd"
      },
      "execution_count": null,
      "outputs": [
        {
          "output_type": "stream",
          "name": "stdout",
          "text": [
            "[(1, 'a'), (1, 'b'), (1, 'c'), (2, 'a'), (2, 'b'), (2, 'c'), (3, 'a'), (3, 'b'), (3, 'c')]\n"
          ]
        }
      ]
    },
    {
      "cell_type": "code",
      "source": [
        "from itertools import product\n",
        "\n",
        "values = list(product([1, 2, 3], 'abc', repeat=2)) #ebat\n",
        "print(values)"
      ],
      "metadata": {
        "colab": {
          "base_uri": "https://localhost:8080/"
        },
        "id": "Z1P3pEdsQh9l",
        "outputId": "cd20b4ce-7125-4af4-de9a-a8e3a7b85ab4"
      },
      "execution_count": null,
      "outputs": [
        {
          "output_type": "stream",
          "name": "stdout",
          "text": [
            "[(1, 'a', 1, 'a'), (1, 'a', 1, 'b'), (1, 'a', 1, 'c'), (1, 'a', 2, 'a'), (1, 'a', 2, 'b'), (1, 'a', 2, 'c'), (1, 'a', 3, 'a'), (1, 'a', 3, 'b'), (1, 'a', 3, 'c'), (1, 'b', 1, 'a'), (1, 'b', 1, 'b'), (1, 'b', 1, 'c'), (1, 'b', 2, 'a'), (1, 'b', 2, 'b'), (1, 'b', 2, 'c'), (1, 'b', 3, 'a'), (1, 'b', 3, 'b'), (1, 'b', 3, 'c'), (1, 'c', 1, 'a'), (1, 'c', 1, 'b'), (1, 'c', 1, 'c'), (1, 'c', 2, 'a'), (1, 'c', 2, 'b'), (1, 'c', 2, 'c'), (1, 'c', 3, 'a'), (1, 'c', 3, 'b'), (1, 'c', 3, 'c'), (2, 'a', 1, 'a'), (2, 'a', 1, 'b'), (2, 'a', 1, 'c'), (2, 'a', 2, 'a'), (2, 'a', 2, 'b'), (2, 'a', 2, 'c'), (2, 'a', 3, 'a'), (2, 'a', 3, 'b'), (2, 'a', 3, 'c'), (2, 'b', 1, 'a'), (2, 'b', 1, 'b'), (2, 'b', 1, 'c'), (2, 'b', 2, 'a'), (2, 'b', 2, 'b'), (2, 'b', 2, 'c'), (2, 'b', 3, 'a'), (2, 'b', 3, 'b'), (2, 'b', 3, 'c'), (2, 'c', 1, 'a'), (2, 'c', 1, 'b'), (2, 'c', 1, 'c'), (2, 'c', 2, 'a'), (2, 'c', 2, 'b'), (2, 'c', 2, 'c'), (2, 'c', 3, 'a'), (2, 'c', 3, 'b'), (2, 'c', 3, 'c'), (3, 'a', 1, 'a'), (3, 'a', 1, 'b'), (3, 'a', 1, 'c'), (3, 'a', 2, 'a'), (3, 'a', 2, 'b'), (3, 'a', 2, 'c'), (3, 'a', 3, 'a'), (3, 'a', 3, 'b'), (3, 'a', 3, 'c'), (3, 'b', 1, 'a'), (3, 'b', 1, 'b'), (3, 'b', 1, 'c'), (3, 'b', 2, 'a'), (3, 'b', 2, 'b'), (3, 'b', 2, 'c'), (3, 'b', 3, 'a'), (3, 'b', 3, 'b'), (3, 'b', 3, 'c'), (3, 'c', 1, 'a'), (3, 'c', 1, 'b'), (3, 'c', 1, 'c'), (3, 'c', 2, 'a'), (3, 'c', 2, 'b'), (3, 'c', 2, 'c'), (3, 'c', 3, 'a'), (3, 'c', 3, 'b'), (3, 'c', 3, 'c')]\n"
          ]
        }
      ]
    },
    {
      "cell_type": "code",
      "source": [
        "from itertools import combinations_with_replacement\n",
        "\n",
        "values = list(combinations_with_replacement(\"АБВ\", 2))\n",
        "print(values)"
      ],
      "metadata": {
        "colab": {
          "base_uri": "https://localhost:8080/"
        },
        "id": "C6StLU9wQiAv",
        "outputId": "70fcf180-5b88-4d5b-ef49-4451abca223c"
      },
      "execution_count": null,
      "outputs": [
        {
          "output_type": "stream",
          "name": "stdout",
          "text": [
            "[('А', 'А'), ('А', 'Б'), ('А', 'В'), ('Б', 'Б'), ('Б', 'В'), ('В', 'В')]\n"
          ]
        }
      ]
    },
    {
      "cell_type": "code",
      "source": [
        "from itertools import permutations\n",
        "\n",
        "values = list(permutations(\"АБВ\"))\n",
        "print(values)"
      ],
      "metadata": {
        "colab": {
          "base_uri": "https://localhost:8080/"
        },
        "id": "kpzo6NCsQiEt",
        "outputId": "020b8d48-e90b-4649-ac30-579c0ea484fe"
      },
      "execution_count": null,
      "outputs": [
        {
          "output_type": "stream",
          "name": "stdout",
          "text": [
            "[('А', 'Б', 'В'), ('А', 'В', 'Б'), ('Б', 'А', 'В'), ('Б', 'В', 'А'), ('В', 'А', 'Б'), ('В', 'Б', 'А')]\n"
          ]
        }
      ]
    },
    {
      "cell_type": "code",
      "source": [
        "s = ['aa', 'bb', 'cc']\n",
        "for i in enumerate(s):\n",
        "    print(i)"
      ],
      "metadata": {
        "colab": {
          "base_uri": "https://localhost:8080/"
        },
        "id": "18gOxI2XQiIv",
        "outputId": "acca9351-1568-46a6-aaad-a91384de8f0f"
      },
      "execution_count": null,
      "outputs": [
        {
          "output_type": "stream",
          "name": "stdout",
          "text": [
            "(0, 'aa')\n",
            "(1, 'bb')\n",
            "(2, 'cc')\n"
          ]
        }
      ]
    },
    {
      "cell_type": "code",
      "source": [
        "from sys import stdin\n",
        "\n",
        "lines = []\n",
        "for line in stdin:\n",
        "    lines.append(line)\n",
        "print(lines)"
      ],
      "metadata": {
        "colab": {
          "base_uri": "https://localhost:8080/"
        },
        "id": "oOMkkifAQiMV",
        "outputId": "b81eea74-a2be-4b1f-a5bd-4f3d79ccd864"
      },
      "execution_count": null,
      "outputs": [
        {
          "output_type": "stream",
          "name": "stdout",
          "text": [
            "[]\n"
          ]
        }
      ]
    },
    {
      "cell_type": "code",
      "source": [
        "from sys import stdin\n",
        "\n",
        "lines = []\n",
        "for line in stdin:\n",
        "    lines.append(line.rstrip(\"\\n\"))\n",
        "print(lines)"
      ],
      "metadata": {
        "colab": {
          "base_uri": "https://localhost:8080/"
        },
        "id": "61AlVOlHQiQ9",
        "outputId": "421e1b03-5b2a-4a72-919e-d79719b069a5"
      },
      "execution_count": null,
      "outputs": [
        {
          "output_type": "stream",
          "name": "stdout",
          "text": [
            "[]\n"
          ]
        }
      ]
    },
    {
      "cell_type": "code",
      "source": [
        "a, b = map(int, input(\"Введите два числа через пробел: \").split())\n",
        "print(\"Сумма:\", a + b)"
      ],
      "metadata": {
        "colab": {
          "base_uri": "https://localhost:8080/"
        },
        "id": "rg_87bLExSk4",
        "outputId": "48d574d9-dbe3-496b-b966-7dee6fbf2681"
      },
      "execution_count": null,
      "outputs": [
        {
          "output_type": "stream",
          "name": "stdout",
          "text": [
            "Введите два числа через пробел: 1 2\n",
            "Сумма: 3\n"
          ]
        }
      ]
    },
    {
      "cell_type": "code",
      "source": [
        "import sys\n",
        "\n",
        "for line in sys.stdin:\n",
        "    print(\"Ввели строку:\", line.strip())"
      ],
      "metadata": {
        "id": "1MjFWqRnxSo_"
      },
      "execution_count": null,
      "outputs": []
    },
    {
      "cell_type": "code",
      "source": [
        "import sys\n",
        "\n",
        "data = sys.stdin.read()\n",
        "print(\"Вы ввели:\", data)\n"
      ],
      "metadata": {
        "colab": {
          "base_uri": "https://localhost:8080/"
        },
        "id": "hCh_QFeJxSs8",
        "outputId": "5c31f885-a768-457d-a4be-398e6ff7e69b"
      },
      "execution_count": null,
      "outputs": [
        {
          "output_type": "stream",
          "name": "stdout",
          "text": [
            "Вы ввели: \n"
          ]
        }
      ]
    },
    {
      "cell_type": "code",
      "source": [
        "import sys\n",
        "\n",
        "print(sys.stdin.read())"
      ],
      "metadata": {
        "colab": {
          "base_uri": "https://localhost:8080/"
        },
        "id": "ulVKKDjXxSxH",
        "outputId": "cc9ed364-2cff-441f-b4c2-eb6e70f31eab"
      },
      "execution_count": null,
      "outputs": [
        {
          "output_type": "stream",
          "name": "stdout",
          "text": [
            "\n"
          ]
        }
      ]
    },
    {
      "cell_type": "code",
      "source": [
        "from sys import stdin\n",
        "\n",
        "lines = []\n",
        "for line in stdin:\n",
        "    lines.append(line)\n",
        "print(lines)"
      ],
      "metadata": {
        "colab": {
          "base_uri": "https://localhost:8080/"
        },
        "id": "lHJRDkc-xS1N",
        "outputId": "50e5dca4-ab8b-43b8-ac4c-882a04520751"
      },
      "execution_count": null,
      "outputs": [
        {
          "output_type": "stream",
          "name": "stdout",
          "text": [
            "[]\n"
          ]
        }
      ]
    },
    {
      "cell_type": "code",
      "source": [
        "# file_in = open(\"input_1.txt\", encoding=\"UTF-8\")\n",
        "# for line in file_in:\n",
        "#     print(line)\n",
        "# file_in.close()"
      ],
      "metadata": {
        "id": "OUaW2G-xxS5T"
      },
      "execution_count": null,
      "outputs": []
    },
    {
      "cell_type": "code",
      "source": [
        "filee = open(\"/content/drive/MyDrive/ML/text.txt\", encoding=\"UTF-8\")\n",
        "for line in filee:\n",
        "  print(line)\n",
        "filee.close()"
      ],
      "metadata": {
        "colab": {
          "base_uri": "https://localhost:8080/"
        },
        "id": "cRKZurMJxS_r",
        "outputId": "3e8452ea-c219-4d84-b9f6-29b7ce1b69f2"
      },
      "execution_count": null,
      "outputs": [
        {
          "output_type": "stream",
          "name": "stdout",
          "text": [
            "hii\n",
            "\n",
            "what's up\n",
            "\n",
            "where are u yo\n"
          ]
        }
      ]
    },
    {
      "cell_type": "code",
      "source": [
        "filee = open(\"/content/drive/MyDrive/ML/text.txt\", encoding=\"UTF-8\")\n",
        "for line in filee:\n",
        "  print(line.rstrip(\"\\n\"))\n",
        "filee.close()"
      ],
      "metadata": {
        "colab": {
          "base_uri": "https://localhost:8080/"
        },
        "id": "Z1PYrSFxxTEr",
        "outputId": "044b3db3-93f4-48a1-ac62-dc1f17645976"
      },
      "execution_count": null,
      "outputs": [
        {
          "output_type": "stream",
          "name": "stdout",
          "text": [
            "hii\n",
            "what's up\n",
            "where are u yo\n"
          ]
        }
      ]
    },
    {
      "cell_type": "code",
      "source": [
        "with open(\"output_1.txt\", \"w\", encoding=\"UTF-8\") as file_out:\n",
        "    n = file_out.write(\"Это первая строка\\nА вот и вторая\\nИ третья -- последняя\\n\")\n",
        "\n",
        "print(n)"
      ],
      "metadata": {
        "id": "FuTr_EXIxTI5",
        "outputId": "dc07b828-ddc9-4c39-ca73-c362e757af20",
        "colab": {
          "base_uri": "https://localhost:8080/"
        }
      },
      "execution_count": null,
      "outputs": [
        {
          "output_type": "stream",
          "name": "stdout",
          "text": [
            "55\n"
          ]
        }
      ]
    },
    {
      "cell_type": "code",
      "source": [
        "import sys\n",
        "print(sys.stdin.read())"
      ],
      "metadata": {
        "id": "qm5_ts7UxTNA",
        "colab": {
          "base_uri": "https://localhost:8080/"
        },
        "outputId": "ed54d900-8aec-48b4-bf60-7bb035b5f0e9"
      },
      "execution_count": null,
      "outputs": [
        {
          "output_type": "stream",
          "name": "stdout",
          "text": [
            "\n"
          ]
        }
      ]
    },
    {
      "cell_type": "code",
      "source": [
        "import pprint\n",
        "\n",
        "data = {\n",
        "    'name': 'Алиса',\n",
        "    'age': 30,\n",
        "    'hobbies': ['чтение', 'походы', 'программирование'],\n",
        "    'address': {\n",
        "        'city': 'Страна чудес',\n",
        "        'zip': '12345'\n",
        "    }\n",
        "}\n",
        "\n",
        "# Используя pprint\n",
        "pprint.pprint(data)"
      ],
      "metadata": {
        "id": "AFc6L2jMTT9-",
        "outputId": "4c2e6a9a-24f7-4e16-9b1f-f98d8a2bc26f",
        "colab": {
          "base_uri": "https://localhost:8080/"
        }
      },
      "execution_count": null,
      "outputs": [
        {
          "output_type": "stream",
          "name": "stdout",
          "text": [
            "{'address': {'city': 'Страна чудес', 'zip': '12345'},\n",
            " 'age': 30,\n",
            " 'hobbies': ['чтение', 'походы', 'программирование'],\n",
            " 'name': 'Алиса'}\n"
          ]
        }
      ]
    },
    {
      "cell_type": "code",
      "source": [
        "def increment(n):\n",
        "    n += 1\n",
        "    print(\"Внутри функции:\", n)\n",
        "\n",
        "x = 10\n",
        "increment(x)  # 11\n",
        "print(\"Снаружи:\", x)  # 10 — не изменился"
      ],
      "metadata": {
        "id": "4Jm6LOv9TUCY",
        "colab": {
          "base_uri": "https://localhost:8080/"
        },
        "outputId": "3374f7e5-bfb3-412f-a981-3d9c2cdd6299"
      },
      "execution_count": null,
      "outputs": [
        {
          "output_type": "stream",
          "name": "stdout",
          "text": [
            "Внутри функции: 11\n",
            "Снаружи: 10\n"
          ]
        }
      ]
    },
    {
      "cell_type": "code",
      "source": [
        "def add_item(my_list):   # ← my_list — параметр (ссылается на список)\n",
        "    my_list.append(100)  # ← список изменяется по ссылке\n",
        "\n",
        "numbers = [1, 2, 3]  # ← глобальный список (изменяемый тип)\n",
        "add_item(numbers)    # ← передаётся ссылка на список\n",
        "print(numbers)       # → [1, 2, 3, 100] — список изменился"
      ],
      "metadata": {
        "id": "VE_6LP_aTUHX",
        "colab": {
          "base_uri": "https://localhost:8080/"
        },
        "outputId": "f4f4b93e-391c-4af8-a50e-34a0d9133705"
      },
      "execution_count": null,
      "outputs": [
        {
          "output_type": "stream",
          "name": "stdout",
          "text": [
            "[1, 2, 3, 100]\n"
          ]
        }
      ]
    },
    {
      "cell_type": "code",
      "source": [
        "def greet(name, age=18):\n",
        "    print(f\"{name}, возраст по умолчанию: {age}\")\n",
        "\n",
        "greet(\"Иван\")          # age = 18\n",
        "greet(\"Анна\", 25)      # age = 25\n",
        "\n",
        "# ❌ Ошибка: аргумент без значения по умолчанию после аргумента с ним\n",
        "# def bad_example(age=20, name):  # SyntaxError\n",
        "#     pass"
      ],
      "metadata": {
        "id": "qgLPo_t2TUL6",
        "outputId": "21cbce6c-bcfb-41ab-ac95-cae18ccf4982",
        "colab": {
          "base_uri": "https://localhost:8080/"
        }
      },
      "execution_count": null,
      "outputs": [
        {
          "output_type": "stream",
          "name": "stdout",
          "text": [
            "Иван, возраст по умолчанию: 18\n",
            "Анна, возраст по умолчанию: 25\n"
          ]
        }
      ]
    },
    {
      "cell_type": "code",
      "source": [
        "def create_car(color, consumption, tank_volume, mileage=0):\n",
        "    return {\n",
        "        \"color\": color,\n",
        "        \"consumption\": consumption,\n",
        "        \"tank_volume\": tank_volume,\n",
        "        \"reserve\": tank_volume,\n",
        "        \"mileage\": mileage,\n",
        "        \"engine_on\": False\n",
        "    }\n",
        "\n",
        "def start_engine(car):\n",
        "   if not car[\"engine_on\"] and car[\"reserve\"] > 0:\n",
        "       car[\"engine_on\"] = True\n",
        "       return \"Двигатель запущен.\"\n",
        "   return \"Двигатель уже был запущен.\"\n",
        "\n",
        "def stop_engine(car):\n",
        "   if car[\"engine_on\"]:\n",
        "       car[\"engine_on\"] = False\n",
        "       return \"Двигатель остановлен.\"\n",
        "   return \"Двигатель уже был остановлен.\"\n",
        "\n",
        "def drive(car, distance):\n",
        "   if not car[\"engine_on\"]:\n",
        "       return \"Двигатель не запущен.\"\n",
        "   if car[\"reserve\"] / car[\"consumption\"] * 100 < distance:\n",
        "       return \"Малый запас топлива.\"\n",
        "   car[\"mileage\"] += distance\n",
        "   car[\"reserve\"] -= distance / 100 * car[\"consumption\"]\n",
        "    return f\"Проехали {distance} км. Остаток топлива: {car['reserve']} л.\"\n",
        "\n",
        "def refuel(car):\n",
        "   car[\"reserve\"] = car[\"tank_volume\"]\n",
        "\n",
        "def get_mileage(car):\n",
        "   return f\"Пробег {car['mileage']} км.\"\n",
        "\n",
        "def get_reserve(car):\n",
        "   return f\"Запас топлива {car['reserve']} л.\"\n",
        "\n",
        "car_1 = create_car(color=\"black\", consumption=10, tank_volume=55)\n",
        "\n",
        "print(start_engine(car_1))\n",
        "print(drive(car_1, 100))\n",
        "print(drive(car_1, 100))\n",
        "print(drive(car_1, 100))\n",
        "print(drive(car_1, 300))\n",
        "print(get_mileage(car_1))\n",
        "print(get_reserve(car_1))\n",
        "print(stop_engine(car_1))\n",
        "print(drive(car_1, 100))"
      ],
      "metadata": {
        "id": "3TXHF1K3xTQ4",
        "colab": {
          "base_uri": "https://localhost:8080/",
          "height": 106
        },
        "outputId": "873b8b15-e4f3-4a70-ace5-d709f5aa683a"
      },
      "execution_count": null,
      "outputs": [
        {
          "output_type": "error",
          "ename": "IndentationError",
          "evalue": "unexpected indent (ipython-input-1219176077.py, line 30)",
          "traceback": [
            "\u001b[0;36m  File \u001b[0;32m\"/tmp/ipython-input-1219176077.py\"\u001b[0;36m, line \u001b[0;32m30\u001b[0m\n\u001b[0;31m    return f\"Проехали {distance} км. Остаток топлива: {car['reserve']} л.\"\u001b[0m\n\u001b[0m    ^\u001b[0m\n\u001b[0;31mIndentationError\u001b[0m\u001b[0;31m:\u001b[0m unexpected indent\n"
          ]
        }
      ]
    },
    {
      "cell_type": "code",
      "source": [
        "# 📦 ОПРЕДЕЛЕНИЕ КЛАССА Car — шаблон для создания объектов машин\n",
        "class Car:\n",
        "\n",
        "    # 🔧 КОНСТРУКТОР (__init__) — вызывается при создании объекта\n",
        "    def __init__(self, color, consumption, tank_volume, mileage=0):\n",
        "        # 🔑 Атрибуты экземпляра (состояния объекта):\n",
        "        self.color = color                 # Цвет машины\n",
        "        self.consumption = consumption     # Расход топлива (л на 100 км)\n",
        "        self.tank_volume = tank_volume     # Объём бака\n",
        "        self.reserve = tank_volume         # Текущий запас топлива (изначально полный)\n",
        "        self.mileage = mileage             # Пробег (по умолчанию 0)\n",
        "        self.engine_on = False             # Состояние двигателя: включён/выключен\n",
        "\n",
        "        # 🛡️ Инкапсуляция: атрибуты объекта хранят его внутреннее состояние\n",
        "        # Они доступны только через методы класса (например, через get_mileage)\n",
        "\n",
        "    # 🔧 Метод: запуск двигателя\n",
        "    def start_engine(self):\n",
        "        if not self.engine_on and self.reserve > 0:\n",
        "            self.engine_on = True\n",
        "            return \"Двигатель запущен.\"\n",
        "        return \"Двигатель уже был запущен.\"\n",
        "\n",
        "    # 🔧 Метод: остановка двигателя\n",
        "    def stop_engine(self):\n",
        "        if self.engine_on:\n",
        "            self.engine_on = False\n",
        "            return \"Двигатель остановлен.\"\n",
        "        return \"Двигатель уже был остановлен.\"\n",
        "\n",
        "    # 🔧 Метод: поехать на указанное расстояние\n",
        "    def drive(self, distance):\n",
        "        if not self.engine_on:\n",
        "            return \"Двигатель не запущен.\"\n",
        "\n",
        "        # Проверка: хватит ли топлива на запрошенное расстояние\n",
        "        if self.reserve / self.consumption * 100 < distance:\n",
        "            return \"Малый запас топлива.\"\n",
        "\n",
        "        # Обновление пробега и расхода топлива\n",
        "        self.mileage += distance\n",
        "        self.reserve -= distance / 100 * self.consumption\n",
        "        return f\"Проехали {distance} км. Остаток топлива: {self.reserve} л.\"\n",
        "\n",
        "    # 🔧 Метод: заправка до полного бака\n",
        "    def refuel(self):\n",
        "        self.reserve = self.tank_volume\n",
        "\n",
        "    # 🔧 Метод-геттер: получить текущий пробег\n",
        "    def get_mileage(self):\n",
        "        return self.mileage\n",
        "\n",
        "    # 🔧 Метод-геттер: получить остаток топлива\n",
        "    def get_reserve(self):\n",
        "        return self.reserve\n",
        "\n",
        "\n",
        "# 🧱 СОЗДАНИЕ ОБЪЕКТА (экземпляра класса Car)\n",
        "car_1 = Car(color=\"black\", consumption=10, tank_volume=55)\n",
        "\n",
        "# Вызов методов (действия над объектом):\n",
        "print(car_1.start_engine())     # 🔧 Метод запуска двигателя\n",
        "print(car_1.drive(100))         # 🔧 Едем 100 км\n",
        "print(car_1.drive(100))         # 🔧 Едем ещё 100 км\n",
        "print(car_1.drive(100))         # 🔧 Едем ещё 100 км\n",
        "print(car_1.drive(300))         # 🔧 Попытка проехать 300 км — может не хватить топлива\n",
        "\n",
        "# Получаем состояние (📊 данные объекта)\n",
        "print(f\"Пробег {car_1.get_mileage()} км.\")        # 🔧 Получаем пробег\n",
        "print(f\"Запас топлива {car_1.get_reserve()} л.\")  # 🔧 Получаем остаток топлива\n",
        "\n",
        "# Останов двигателя\n",
        "print(car_1.stop_engine())       # 🔧 Метод остановки двигателя\n",
        "\n",
        "# Попытка ехать с выключенным двигателем\n",
        "print(car_1.drive(100))          # 🔧 Не поедет — двигатель выключен\n"
      ],
      "metadata": {
        "colab": {
          "base_uri": "https://localhost:8080/"
        },
        "id": "zDwUkKpx42U5",
        "outputId": "9a85fa28-6ed9-404a-b6d5-992b6fbfb47d"
      },
      "execution_count": null,
      "outputs": [
        {
          "output_type": "stream",
          "name": "stdout",
          "text": [
            "Двигатель запущен.\n",
            "Проехали 100 км. Остаток топлива: 45.0 л.\n",
            "Проехали 100 км. Остаток топлива: 35.0 л.\n",
            "Проехали 100 км. Остаток топлива: 25.0 л.\n",
            "Малый запас топлива.\n",
            "Пробег 300 км.\n",
            "Запас топлива 25.0 л.\n",
            "Двигатель остановлен.\n",
            "Двигатель не запущен.\n"
          ]
        }
      ]
    },
    {
      "cell_type": "code",
      "source": [
        "class Point:\n",
        "    def __init__(self, x, y):\n",
        "        self.x = x\n",
        "        self.y = y\n",
        "\n",
        "    def __add__(self, other):  # перегружаем +\n",
        "        return Point(self.x + other.x, self.y + other.y)\n",
        "\n",
        "    def __str__(self):  # удобный вывод\n",
        "        return f\"Point({self.x}, {self.y})\"\n",
        "\n",
        "p1 = Point(1, 2)\n",
        "p2 = Point(3, 4)\n",
        "print(p1 + p2)  # 👉 Point(4, 6)"
      ],
      "metadata": {
        "colab": {
          "base_uri": "https://localhost:8080/"
        },
        "id": "tzwUXjou42az",
        "outputId": "81395f62-3c29-4c98-b71a-90be194bac99"
      },
      "execution_count": null,
      "outputs": [
        {
          "output_type": "stream",
          "name": "stdout",
          "text": [
            "Point(4, 6)\n"
          ]
        }
      ]
    },
    {
      "cell_type": "code",
      "source": [
        "class Book:\n",
        "    def __init__(self, title, pages):\n",
        "        self.title = title\n",
        "        self.pages = pages\n",
        "\n",
        "    def __str__(self):     # для print()\n",
        "        return f\"{self.title} ({self.pages} pages)\"\n",
        "\n",
        "    def __repr__(self):    # для отладки\n",
        "        return f\"Book({self.title!r}, {self.pages!r})\"\n",
        "\n",
        "    def __add__(self, other):  # сложение по страницам\n",
        "        return Book(self.title + \" & \" + other.title, self.pages + other.pages)\n",
        "\n",
        "b1 = Book(\"Python\", 300)\n",
        "b2 = Book(\"OOP\", 200)\n",
        "\n",
        "print(b1)         # 👉 Python (300 pages)\n",
        "print(repr(b2))   # 👉 Book('OOP', 200)\n",
        "print(b1 + b2)    # 👉 Python & OOP (500 pages)\n"
      ],
      "metadata": {
        "id": "nuuO2KOq42eu",
        "outputId": "5c21bd86-5c4d-472a-90b6-60b6cfc205ed",
        "colab": {
          "base_uri": "https://localhost:8080/"
        }
      },
      "execution_count": null,
      "outputs": [
        {
          "output_type": "stream",
          "name": "stdout",
          "text": [
            "Python (300 pages)\n",
            "Book('OOP', 200)\n",
            "Python & OOP (500 pages)\n"
          ]
        }
      ]
    },
    {
      "cell_type": "code",
      "source": [
        "# Попытка деления на ноль — вызовет исключение ZeroDivisionError\n",
        "a = 10\n",
        "b = 0\n",
        "result = a / b  # ❌ Ошибка: деление на ноль\n",
        "print(\"Результат:\", result)  # Эта строка уже не выполнится"
      ],
      "metadata": {
        "id": "49W4_iCg42jC",
        "colab": {
          "base_uri": "https://localhost:8080/",
          "height": 193
        },
        "outputId": "a6334c70-03fa-4a97-caeb-07aeb2604038"
      },
      "execution_count": null,
      "outputs": [
        {
          "output_type": "error",
          "ename": "ZeroDivisionError",
          "evalue": "division by zero",
          "traceback": [
            "\u001b[0;31m---------------------------------------------------------------------------\u001b[0m",
            "\u001b[0;31mZeroDivisionError\u001b[0m                         Traceback (most recent call last)",
            "\u001b[0;32m/tmp/ipython-input-3492964252.py\u001b[0m in \u001b[0;36m<cell line: 0>\u001b[0;34m()\u001b[0m\n\u001b[1;32m      2\u001b[0m \u001b[0ma\u001b[0m \u001b[0;34m=\u001b[0m \u001b[0;36m10\u001b[0m\u001b[0;34m\u001b[0m\u001b[0;34m\u001b[0m\u001b[0m\n\u001b[1;32m      3\u001b[0m \u001b[0mb\u001b[0m \u001b[0;34m=\u001b[0m \u001b[0;36m0\u001b[0m\u001b[0;34m\u001b[0m\u001b[0;34m\u001b[0m\u001b[0m\n\u001b[0;32m----> 4\u001b[0;31m \u001b[0mresult\u001b[0m \u001b[0;34m=\u001b[0m \u001b[0ma\u001b[0m \u001b[0;34m/\u001b[0m \u001b[0mb\u001b[0m  \u001b[0;31m# ❌ Ошибка: деление на ноль\u001b[0m\u001b[0;34m\u001b[0m\u001b[0;34m\u001b[0m\u001b[0m\n\u001b[0m\u001b[1;32m      5\u001b[0m \u001b[0mprint\u001b[0m\u001b[0;34m(\u001b[0m\u001b[0;34m\"Результат:\"\u001b[0m\u001b[0;34m,\u001b[0m \u001b[0mresult\u001b[0m\u001b[0;34m)\u001b[0m  \u001b[0;31m# Эта строка уже не выполнится\u001b[0m\u001b[0;34m\u001b[0m\u001b[0;34m\u001b[0m\u001b[0m\n",
            "\u001b[0;31mZeroDivisionError\u001b[0m: division by zero"
          ]
        }
      ]
    },
    {
      "cell_type": "code",
      "source": [
        "# Пример с чтением значения из словаря\n",
        "\n",
        "data = {\"name\": \"Ahmed\"}\n",
        "\n",
        "# 🔹 LBYL: сначала проверим, есть ли ключ\n",
        "if \"age\" in data:\n",
        "    print(\"Возраст:\", data[\"age\"])\n",
        "else:\n",
        "    print(\"Возраст не указан\")\n",
        "\n",
        "# 🔹 EAFP: просто пробуем, а если ошибка — обрабатываем\n",
        "try:\n",
        "    print(\"Возраст:\", data[\"age\"])\n",
        "except KeyError:\n",
        "    print(\"Возраст не указан\")"
      ],
      "metadata": {
        "id": "8XDyvWX842ni",
        "colab": {
          "base_uri": "https://localhost:8080/"
        },
        "outputId": "365556d2-c0c5-42a9-86fb-b549bcde8158"
      },
      "execution_count": null,
      "outputs": [
        {
          "output_type": "stream",
          "name": "stdout",
          "text": [
            "Возраст не указан\n",
            "Возраст не указан\n"
          ]
        }
      ]
    },
    {
      "cell_type": "code",
      "source": [
        "try:\n",
        "    number = int(input(\"Введите число: \"))\n",
        "except ValueError:\n",
        "    print(\"Ошибка: введите корректное число.\")\n",
        "else:\n",
        "    print(f\"Вы ввели число: {number}\")\n",
        "finally:\n",
        "    print(\"Программа завершена.\")"
      ],
      "metadata": {
        "id": "85WPKqfo42r_",
        "colab": {
          "base_uri": "https://localhost:8080/"
        },
        "outputId": "c6e6a803-3c47-4a9c-e520-5fddb7094170"
      },
      "execution_count": null,
      "outputs": [
        {
          "output_type": "stream",
          "name": "stdout",
          "text": [
            "Введите число: l\n",
            "Ошибка: введите корректное число.\n",
            "Программа завершена.\n"
          ]
        }
      ]
    },
    {
      "cell_type": "code",
      "source": [
        "print(\";\".join(str(1 / x) for x in range(int(input()), int(input()) + 1)))\n"
      ],
      "metadata": {
        "id": "wJldl1UP42wQ",
        "colab": {
          "base_uri": "https://localhost:8080/",
          "height": 228
        },
        "outputId": "d5c07fbd-8ce4-4a85-b79d-f742f3276e1f"
      },
      "execution_count": null,
      "outputs": [
        {
          "name": "stdout",
          "output_type": "stream",
          "text": [
            "0\n",
            "9\n"
          ]
        },
        {
          "output_type": "error",
          "ename": "ZeroDivisionError",
          "evalue": "division by zero",
          "traceback": [
            "\u001b[0;31m---------------------------------------------------------------------------\u001b[0m",
            "\u001b[0;31mZeroDivisionError\u001b[0m                         Traceback (most recent call last)",
            "\u001b[0;32m/tmp/ipython-input-2961206265.py\u001b[0m in \u001b[0;36m<cell line: 0>\u001b[0;34m()\u001b[0m\n\u001b[0;32m----> 1\u001b[0;31m \u001b[0mprint\u001b[0m\u001b[0;34m(\u001b[0m\u001b[0;34m\";\"\u001b[0m\u001b[0;34m.\u001b[0m\u001b[0mjoin\u001b[0m\u001b[0;34m(\u001b[0m\u001b[0mstr\u001b[0m\u001b[0;34m(\u001b[0m\u001b[0;36m1\u001b[0m \u001b[0;34m/\u001b[0m \u001b[0mx\u001b[0m\u001b[0;34m)\u001b[0m \u001b[0;32mfor\u001b[0m \u001b[0mx\u001b[0m \u001b[0;32min\u001b[0m \u001b[0mrange\u001b[0m\u001b[0;34m(\u001b[0m\u001b[0mint\u001b[0m\u001b[0;34m(\u001b[0m\u001b[0minput\u001b[0m\u001b[0;34m(\u001b[0m\u001b[0;34m)\u001b[0m\u001b[0;34m)\u001b[0m\u001b[0;34m,\u001b[0m \u001b[0mint\u001b[0m\u001b[0;34m(\u001b[0m\u001b[0minput\u001b[0m\u001b[0;34m(\u001b[0m\u001b[0;34m)\u001b[0m\u001b[0;34m)\u001b[0m \u001b[0;34m+\u001b[0m \u001b[0;36m1\u001b[0m\u001b[0;34m)\u001b[0m\u001b[0;34m)\u001b[0m\u001b[0;34m)\u001b[0m\u001b[0;34m\u001b[0m\u001b[0;34m\u001b[0m\u001b[0m\n\u001b[0m",
            "\u001b[0;32m/tmp/ipython-input-2961206265.py\u001b[0m in \u001b[0;36m<genexpr>\u001b[0;34m(.0)\u001b[0m\n\u001b[0;32m----> 1\u001b[0;31m \u001b[0mprint\u001b[0m\u001b[0;34m(\u001b[0m\u001b[0;34m\";\"\u001b[0m\u001b[0;34m.\u001b[0m\u001b[0mjoin\u001b[0m\u001b[0;34m(\u001b[0m\u001b[0mstr\u001b[0m\u001b[0;34m(\u001b[0m\u001b[0;36m1\u001b[0m \u001b[0;34m/\u001b[0m \u001b[0mx\u001b[0m\u001b[0;34m)\u001b[0m \u001b[0;32mfor\u001b[0m \u001b[0mx\u001b[0m \u001b[0;32min\u001b[0m \u001b[0mrange\u001b[0m\u001b[0;34m(\u001b[0m\u001b[0mint\u001b[0m\u001b[0;34m(\u001b[0m\u001b[0minput\u001b[0m\u001b[0;34m(\u001b[0m\u001b[0;34m)\u001b[0m\u001b[0;34m)\u001b[0m\u001b[0;34m,\u001b[0m \u001b[0mint\u001b[0m\u001b[0;34m(\u001b[0m\u001b[0minput\u001b[0m\u001b[0;34m(\u001b[0m\u001b[0;34m)\u001b[0m\u001b[0;34m)\u001b[0m \u001b[0;34m+\u001b[0m \u001b[0;36m1\u001b[0m\u001b[0;34m)\u001b[0m\u001b[0;34m)\u001b[0m\u001b[0;34m)\u001b[0m\u001b[0;34m\u001b[0m\u001b[0;34m\u001b[0m\u001b[0m\n\u001b[0m",
            "\u001b[0;31mZeroDivisionError\u001b[0m: division by zero"
          ]
        }
      ]
    },
    {
      "cell_type": "code",
      "source": [
        "interval = range(int(input()), int(input()) + 1)\n",
        "if 0 in interval:\n",
        "    print(\"Диапазон чисел содержит 0.\")\n",
        "else:\n",
        "    print(\";\".join(str(1 / x) for x in interval))"
      ],
      "metadata": {
        "id": "Aso0dZw-420M",
        "colab": {
          "base_uri": "https://localhost:8080/"
        },
        "outputId": "3848050b-460c-465c-a9f9-2c233ec44f53"
      },
      "execution_count": null,
      "outputs": [
        {
          "output_type": "stream",
          "name": "stdout",
          "text": [
            "0\n",
            "9\n",
            "Диапазон чисел содержит 0.\n"
          ]
        }
      ]
    },
    {
      "cell_type": "code",
      "source": [
        "print(\";\".join(str(1 / x) for x in range(int(input()), int(input()) + 1)))"
      ],
      "metadata": {
        "colab": {
          "base_uri": "https://localhost:8080/"
        },
        "id": "Xy6UpwqQH7Hx",
        "outputId": "8f7831c3-800f-48f7-c55b-63551380f248"
      },
      "execution_count": null,
      "outputs": [
        {
          "output_type": "stream",
          "name": "stdout",
          "text": [
            "9\n",
            "0\n",
            "\n"
          ]
        }
      ]
    },
    {
      "cell_type": "code",
      "source": [],
      "metadata": {
        "id": "wuUhuEiYH7OL"
      },
      "execution_count": null,
      "outputs": []
    },
    {
      "cell_type": "code",
      "source": [],
      "metadata": {
        "id": "ee1pBxsNH7Tz"
      },
      "execution_count": null,
      "outputs": []
    },
    {
      "cell_type": "code",
      "source": [],
      "metadata": {
        "id": "XYffLGVGH7Zw"
      },
      "execution_count": null,
      "outputs": []
    },
    {
      "cell_type": "code",
      "source": [],
      "metadata": {
        "id": "_AsR97IxH7fx"
      },
      "execution_count": null,
      "outputs": []
    },
    {
      "cell_type": "code",
      "source": [],
      "metadata": {
        "id": "HraplfDlH7li"
      },
      "execution_count": null,
      "outputs": []
    },
    {
      "cell_type": "code",
      "source": [],
      "metadata": {
        "id": "fT2G8EwtH7rQ"
      },
      "execution_count": null,
      "outputs": []
    },
    {
      "cell_type": "code",
      "source": [],
      "metadata": {
        "id": "Y98QmdzAH7xJ"
      },
      "execution_count": null,
      "outputs": []
    },
    {
      "cell_type": "code",
      "source": [],
      "metadata": {
        "id": "KkUAvjxSH72t"
      },
      "execution_count": null,
      "outputs": []
    },
    {
      "cell_type": "code",
      "source": [],
      "metadata": {
        "id": "BWZZZK9MH78G"
      },
      "execution_count": null,
      "outputs": []
    },
    {
      "cell_type": "code",
      "source": [],
      "metadata": {
        "id": "-ri49gciH8Cc"
      },
      "execution_count": null,
      "outputs": []
    },
    {
      "cell_type": "code",
      "source": [],
      "metadata": {
        "id": "SleEro4aH8I3"
      },
      "execution_count": null,
      "outputs": []
    },
    {
      "cell_type": "code",
      "source": [],
      "metadata": {
        "id": "16zrNS6cH8O7"
      },
      "execution_count": null,
      "outputs": []
    },
    {
      "cell_type": "code",
      "source": [],
      "metadata": {
        "id": "1MnU3S8P424T"
      },
      "execution_count": null,
      "outputs": []
    },
    {
      "cell_type": "markdown",
      "source": [
        "# The end"
      ],
      "metadata": {
        "id": "2rUKeDVo-0Rz"
      }
    }
  ]
}