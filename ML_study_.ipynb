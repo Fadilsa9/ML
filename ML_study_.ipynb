{
  "nbformat": 4,
  "nbformat_minor": 0,
  "metadata": {
    "colab": {
      "provenance": [],
      "authorship_tag": "ABX9TyMIGRzcshxsjTlsrJ7svqAU"
    },
    "kernelspec": {
      "name": "python3",
      "display_name": "Python 3"
    },
    "language_info": {
      "name": "python"
    }
  },
  "cells": [
    {
      "cell_type": "code",
      "execution_count": null,
      "metadata": {
        "colab": {
          "base_uri": "https://localhost:8080/"
        },
        "id": "0_hgGEfTvBjR",
        "outputId": "8d56b19f-8f1c-479a-a66f-e9c878e04be4"
      },
      "outputs": [
        {
          "output_type": "stream",
          "name": "stdout",
          "text": [
            "10758024\n",
            "<class 'int'>\n",
            "10\n",
            "28\n",
            "88\n"
          ]
        }
      ],
      "source": [
        "x = 10\n",
        "print(id(10))\n",
        "print(type(10))\n",
        "print(x)\n",
        "\n",
        "import sys\n",
        "print(sys.getsizeof(x))\n",
        "\n",
        "y = [1, 2, 3]\n",
        "print(sys.getsizeof(y))"
      ]
    },
    {
      "cell_type": "code",
      "source": [
        "print(f\"{2 ** 0.5:.2f}\")"
      ],
      "metadata": {
        "id": "YhWcYUy4y-Bu",
        "colab": {
          "base_uri": "https://localhost:8080/"
        },
        "outputId": "351a8815-c7d7-45c4-cc4f-7d103715e0c3"
      },
      "execution_count": 1,
      "outputs": [
        {
          "output_type": "stream",
          "name": "stdout",
          "text": [
            "1.41\n"
          ]
        }
      ]
    },
    {
      "cell_type": "code",
      "source": [
        "digit = 8 % 9\n",
        "print(digit)"
      ],
      "metadata": {
        "colab": {
          "base_uri": "https://localhost:8080/"
        },
        "id": "idarjGSr1sz1",
        "outputId": "7ad9fcac-cf0d-47d5-ae5e-334ae94af5d5"
      },
      "execution_count": 7,
      "outputs": [
        {
          "output_type": "stream",
          "name": "stdout",
          "text": [
            "8\n"
          ]
        }
      ]
    },
    {
      "cell_type": "code",
      "source": [
        "# not x == 5 ==> x != 5"
      ],
      "metadata": {
        "id": "8G8PaaAp1s5D"
      },
      "execution_count": null,
      "outputs": []
    },
    {
      "cell_type": "code",
      "source": [
        "print(ord('a'), ord('A'))\n",
        "print(ord('s') > ord('m'))\n",
        "print(ord('m') > ord('s'))\n",
        "\n",
        "# возвращает код символа из таблицы кодировки"
      ],
      "metadata": {
        "colab": {
          "base_uri": "https://localhost:8080/"
        },
        "id": "CbdbUgx31s9H",
        "outputId": "6ef335d5-d8f2-41dc-e56d-d6bdf7cee0ac"
      },
      "execution_count": 10,
      "outputs": [
        {
          "output_type": "stream",
          "name": "stdout",
          "text": [
            "97 65\n",
            "True\n",
            "False\n"
          ]
        }
      ]
    },
    {
      "cell_type": "code",
      "source": [
        "print(chr(116))"
      ],
      "metadata": {
        "colab": {
          "base_uri": "https://localhost:8080/"
        },
        "id": "11F9kl3r1tQH",
        "outputId": "05ce60e6-90da-41ce-b562-abe0d032489a"
      },
      "execution_count": 13,
      "outputs": [
        {
          "output_type": "stream",
          "name": "stdout",
          "text": [
            "t\n"
          ]
        }
      ]
    },
    {
      "cell_type": "code",
      "source": [
        "text = input()\n",
        "if 'fuck' in text:\n",
        "  print('there is a good word')\n",
        "else:\n",
        "  print('there is not a nice word')"
      ],
      "metadata": {
        "colab": {
          "base_uri": "https://localhost:8080/"
        },
        "id": "JButBHMC1tUJ",
        "outputId": "211190a4-8eb7-4c7e-90e4-f3850f56fa98"
      },
      "execution_count": 17,
      "outputs": [
        {
          "output_type": "stream",
          "name": "stdout",
          "text": [
            "all of us fucking damn right yoo\n",
            "there is a good word\n"
          ]
        }
      ]
    },
    {
      "cell_type": "code",
      "source": [
        "def test(value):\n",
        "    match value:\n",
        "        case 1:\n",
        "            print(\"Один\")\n",
        "        case 2:\n",
        "            print(\"Два\")\n",
        "        case _:\n",
        "            print(\"Другое\")\n",
        "\n",
        "test(1)\n",
        "test(2)\n",
        "test(_)"
      ],
      "metadata": {
        "colab": {
          "base_uri": "https://localhost:8080/"
        },
        "id": "IaXVYRDG1tYj",
        "outputId": "8c8bb52a-55e0-45fe-bc3c-155b77978ec6"
      },
      "execution_count": 21,
      "outputs": [
        {
          "output_type": "stream",
          "name": "stdout",
          "text": [
            "Один\n",
            "Два\n",
            "Другое\n"
          ]
        }
      ]
    },
    {
      "cell_type": "code",
      "source": [
        "m = 12\n",
        "n = 19\n",
        "k = 25\n",
        "\n",
        "# максимальное число\n",
        "print(max(m, n, k))\n",
        "\n",
        "line_1 = \"m\"\n",
        "line_2 = \"n\"\n",
        "line_3 = \"k\"\n",
        "\n",
        "# минимальная лексикографически строка\n",
        "print(min(line_1, line_2, line_3))\n",
        "\n",
        "# количество цифр в числе 2 в степени 2022\n",
        "print(2 ** 2022)\n",
        "print(str(2 ** 2022))\n",
        "print(len(str(2 ** 2022)))\n",
        "\n",
        "# print(abs(str(2 ** 2022)))"
      ],
      "metadata": {
        "colab": {
          "base_uri": "https://localhost:8080/"
        },
        "id": "MQwDoPrz1t3G",
        "outputId": "99c85197-f6b7-4f75-bc35-7b7c4a9154df"
      },
      "execution_count": 26,
      "outputs": [
        {
          "output_type": "stream",
          "name": "stdout",
          "text": [
            "25\n",
            "k\n",
            "481560916771158684800786922703235625631274322714142263414417884163925873322306437689024231009526751394401758326916367106052034484602375642882110959089521812209947069992139877256008949136579813164413834190131240610432508865633901300457687591589632190325582710683886781973951695733384278544896131740867054246692573031629150247882082682647773168904426336814855367810693467547461780797071163567159452928068892906992787178135839959347223507647240845924670958716173279750751341651541295792537288393481542519773223140547524361834615428274169543954961376881442030303829940191406452725012875774576546969913778507874304\n",
            "481560916771158684800786922703235625631274322714142263414417884163925873322306437689024231009526751394401758326916367106052034484602375642882110959089521812209947069992139877256008949136579813164413834190131240610432508865633901300457687591589632190325582710683886781973951695733384278544896131740867054246692573031629150247882082682647773168904426336814855367810693467547461780797071163567159452928068892906992787178135839959347223507647240845924670958716173279750751341651541295792537288393481542519773223140547524361834615428274169543954961376881442030303829940191406452725012875774576546969913778507874304\n",
            "609\n"
          ]
        }
      ]
    }
  ]
}